{
 "cells": [
  {
   "cell_type": "code",
   "execution_count": 1,
   "metadata": {},
   "outputs": [
    {
     "data": {
      "text/plain": [
       "(array([ 1.70710678, -0.29289322]), array([ 1.70710678, -0.29289322]), True)"
      ]
     },
     "execution_count": 1,
     "metadata": {},
     "output_type": "execute_result"
    }
   ],
   "source": [
    "import numpy as np\n",
    "# odd 函数前的系数\n",
    "\n",
    "# Define random r\n",
    "r = np.random.randint(1, 10)\n",
    "r = 2\n",
    "\n",
    "# Define x_mu\n",
    "x_mu = np.array([(2 * mu - 1) / (2 * r) * np.pi for mu in range(1, r + 1)])\n",
    "\n",
    "p0 = np.array([mu for mu in range(1, r + 1)])\n",
    "\n",
    "# Create matrix A\n",
    "A = np.array([[np.sin(n * x) for n in range(1, r + 1)] for x in x_mu])\n",
    "\n",
    "# Calculate the inverse of A and the dot product with p0\n",
    "b = np.dot(np.linalg.inv(A).T, p0)\n",
    "\n",
    "# Calculate the expression for each x_mu\n",
    "expression_values = np.array([np.sin(r * x) / (2 * r * np.sin(0.5 * x)**2) for x in x_mu])\n",
    "\n",
    "# Check if the values are equal\n",
    "are_equal = np.allclose(b , expression_values)\n",
    "b, expression_values, are_equal\n",
    "\n"
   ]
  },
  {
   "cell_type": "code",
   "execution_count": 2,
   "metadata": {},
   "outputs": [
    {
     "data": {
      "text/plain": [
       "(array([ 0.85355339, -0.14644661, -0.85355339,  0.14644661]),\n",
       " array([ 0.85355339, -0.14644661,  0.14644661, -0.85355339]),\n",
       " True)"
      ]
     },
     "execution_count": 2,
     "metadata": {},
     "output_type": "execute_result"
    }
   ],
   "source": [
    "import numpy as np\n",
    "\n",
    "# Define random r\n",
    "r = np.random.randint(1, 10)\n",
    "r = 2\n",
    "\n",
    "# Define x_mu\n",
    "x_mu = np.array([(2 * mu - 1) / (2 * r) * np.pi for mu in range(1, r + 1)])\n",
    "\n",
    "p0 = np.array([mu for mu in range(1, r + 1)])\n",
    "\n",
    "# Create matrix A\n",
    "A = np.array([[np.sin(n * x) for n in range(1, r + 1)] for x in x_mu])\n",
    "\n",
    "# Calculate the inverse of A and the dot product with p0\n",
    "b = np.dot(np.linalg.inv(A).T, p0)\n",
    "b = np.hstack((0.5 * b, -0.5 * b))\n",
    "\n",
    "# Sort b in ascending order\n",
    "b_sorted = np.sort(b)\n",
    "\n",
    "# Generate x_mu_long\n",
    "x_mu_long = np.array([(2 * mu - 1) / (2 * r) * np.pi for mu in range(1, 2*r + 1)])\n",
    "\n",
    "# Calculate the expression for each x_mu\n",
    "expression_values = np.array([np.sin(r * x) / (4 * r * np.sin(0.5 * x)**2) for x in x_mu_long])\n",
    "\n",
    "# Sort expression_values in ascending order\n",
    "expression_values_sorted = np.sort(expression_values)\n",
    "\n",
    "# Check if the sorted values are equal\n",
    "are_equal = np.allclose(b_sorted, expression_values_sorted)\n",
    "\n",
    "b, expression_values, are_equal"
   ]
  },
  {
   "cell_type": "code",
   "execution_count": 3,
   "metadata": {},
   "outputs": [
    {
     "name": "stdout",
     "output_type": "stream",
     "text": [
      "1.5\n",
      "1.5\n"
     ]
    },
    {
     "data": {
      "text/plain": [
       "array([[1., 0.],\n",
       "       [0., 2.]])"
      ]
     },
     "execution_count": 3,
     "metadata": {},
     "output_type": "execute_result"
    }
   ],
   "source": [
    "import numpy as np\n",
    "\n",
    "# Define random r\n",
    "# r = np.random.randint(1, 10)\n",
    "r = 2\n",
    "\n",
    "# Define x_mu\n",
    "x_mu = np.array([(2 * mu - 1) / (2 * r) * np.pi for mu in range(1, r + 1)])\n",
    "\n",
    "p0 = np.array([mu for mu in range(1, r + 1)])\n",
    "\n",
    "# Create matrix A\n",
    "A = np.array([[np.sin(n * x) for n in range(1, r + 1)] for x in x_mu])\n",
    "\n",
    "# Calculate the inverse of A and the dot product with p0\n",
    "dot_product_result = np.dot(np.linalg.inv(A).T, p0)\n",
    "print(0.5*np.sum(dot_product_result**2))\n",
    "print((2*r**2+1)/6)\n",
    "\n",
    "# Calculate the expression for each x_mu\n",
    "expression_values = np.array([np.sin(r * x) / (2 * r * np.sin(0.5 * x)**2) for x in x_mu])\n",
    "\n",
    "# Check if the values are equal\n",
    "are_equal = np.allclose(dot_product_result, expression_values)\n",
    "dot_product_result, expression_values, are_equal\n",
    "\n",
    "\n",
    "# # Calculate A^T A\n",
    "A_T_A = A.T @ A\n",
    "A_T_A\n",
    "\n",
    "# A_A_T= A @ A.T\n",
    "# A_A_T"
   ]
  },
  {
   "cell_type": "code",
   "execution_count": 4,
   "metadata": {},
   "outputs": [
    {
     "name": "stdout",
     "output_type": "stream",
     "text": [
      "[[0.99749525 0.05029722]\n",
      " [0.05029722 1.98995629]]\n",
      "16.400200404456715\n",
      "[[0.99749469 0.05030391]\n",
      " [0.05030391 1.98995364]]\n",
      "16.400200403942893\n",
      "Differential Evolution:\n",
      "Optimal x_mu: [0.81958279 2.39289018]\n",
      "Minimal var: 16.400301524396554\n",
      "\n",
      "Basin-hopping:\n",
      "Optimal x_mu: [ 8.67608046 62.01226587]\n",
      "Minimal var: 16.400411019671758\n",
      "1.5\n"
     ]
    }
   ],
   "source": [
    "import numpy as np\n",
    "from scipy.optimize import minimize, differential_evolution, basinhopping, shgo\n",
    "\n",
    "# Define r\n",
    "r = 2\n",
    "\n",
    "# Initialize p0\n",
    "d = 3\n",
    "p0 = np.array([mu**d for mu in range(1, r + 1)])\n",
    "\n",
    "# Define the function to calculate var based on x_mu\n",
    "def calculate_var(x_mu, reg_param=1e-5):\n",
    "    # Create matrix A based on x_mu\n",
    "    A = np.array([[np.sin(n * x) for n in range(1, r + 1)] for x in x_mu])\n",
    "    \n",
    "    # Add a small regularization term to the diagonal of A\n",
    "    A += reg_param * np.eye(r)\n",
    "    \n",
    "    # Calculate the inverse of A and the dot product with p0\n",
    "    try:\n",
    "        dot_product_result = np.dot(np.linalg.inv(A).T, p0)\n",
    "        var = 0.5 * np.sum(dot_product_result**2)\n",
    "    except np.linalg.LinAlgError:\n",
    "        # In case A is singular, return a large number\n",
    "        var = np.inf\n",
    "    return var\n",
    "\n",
    "# Define the bounds for x_mu (0 to 2π for each element)\n",
    "bounds = [(0, np.pi) for _ in range(r)]\n",
    "\n",
    "# Initial guess for x_mu (equally spaced points between 0 and 2π)\n",
    "x_mu_initial = np.random.uniform(0, 2 * np.pi, r)\n",
    "\n",
    "# Differential Evolution\n",
    "result_de = differential_evolution(calculate_var, bounds)\n",
    "optimal_x_mu_de = result_de.x\n",
    "optimal_var_de = result_de.fun\n",
    "\n",
    "A = np.array([[np.sin(n * x) for n in range(1, r + 1)] for x in optimal_x_mu_de])\n",
    "# print(A)\n",
    "print(A.T @ A)\n",
    "# print(np.linalg.inv(A.T @ A))\n",
    "print(0.5*np.inner(p0, np.dot(np.linalg.inv(A.T @ A), p0)))\n",
    " \n",
    "# Basin-hopping\n",
    "result_bh = basinhopping(calculate_var, x_mu_initial, niter=100)\n",
    "optimal_x_mu_bh = result_bh.x\n",
    "optimal_var_bh = result_bh.fun\n",
    "\n",
    "A = np.array([[np.sin(n * x) for n in range(1, r + 1)] for x in optimal_x_mu_bh])\n",
    "# print(A)\n",
    "print(A.T @ A)\n",
    "# print(np.linalg.inv(A.T @ A))\n",
    "print(0.5*np.inner(p0, np.dot(np.linalg.inv(A.T @ A), p0)))\n",
    " \n",
    "# Print the results\n",
    "print(\"Differential Evolution:\")\n",
    "print(\"Optimal x_mu:\", optimal_x_mu_de)\n",
    "print(\"Minimal var:\", optimal_var_de)\n",
    "\n",
    "print(\"\\nBasin-hopping:\")\n",
    "print(\"Optimal x_mu:\", optimal_x_mu_bh)\n",
    "print(\"Minimal var:\", optimal_var_bh)\n",
    "\n",
    "print((2*r**2+1)/6)"
   ]
  },
  {
   "cell_type": "code",
   "execution_count": 5,
   "metadata": {},
   "outputs": [
    {
     "data": {
      "text/plain": [
       "16.400200403942897"
      ]
     },
     "execution_count": 5,
     "metadata": {},
     "output_type": "execute_result"
    }
   ],
   "source": [
    "sol = np.linalg.solve(A.T, p0)\n",
    "0.5* np.linalg.norm(sol)**2"
   ]
  },
  {
   "cell_type": "code",
   "execution_count": 6,
   "metadata": {},
   "outputs": [
    {
     "data": {
      "image/png": "[encoded data removed]",
      "text/plain": [
       "<Figure size 1000x600 with 1 Axes>"
      ]
     },
     "metadata": {},
     "output_type": "display_data"
    }
   ],
   "source": [
    "import numpy as np\n",
    "import matplotlib.pyplot as plt\n",
    "\n",
    "# 运行你的优化代码后得到以下变量：\n",
    "optimal_x_mu_de = result_de.x % (2 * np.pi)  # 将结果限制在0到2π之间\n",
    "optimal_x_mu_bh = result_bh.x % (2 * np.pi)  # 将结果限制在0到2π之间\n",
    "\n",
    "# 创建一个新的图形\n",
    "plt.figure(figsize=(10, 6))\n",
    "\n",
    "# 设置偏移量，以便不同方法的点不重合\n",
    "offset_de = 0.1  # 差分进化方法的偏移\n",
    "offset_bh = -0.1  # 盆地跳跃方法的偏移\n",
    "\n",
    "# 将最优点画在不同的x轴上，使用pi为刻度显示\n",
    "plt.scatter(optimal_x_mu_de / np.pi, np.zeros_like(optimal_x_mu_de) + offset_de, color='red', label='Differential Evolution', s=100)\n",
    "plt.scatter(optimal_x_mu_bh / np.pi, np.zeros_like(optimal_x_mu_bh) + offset_bh, color='blue', label='Basin-hopping', s=100)\n",
    "\n",
    "# 设置x轴刻度为pi的倍数\n",
    "plt.xticks(ticks=np.arange(0, 2.5, 0.5), labels=[f'{i}$\\pi$' for i in np.arange(0, 2.5, 0.5)])\n",
    "\n",
    "# 设置y轴刻度为空，因为我们只关心x轴上的位置\n",
    "plt.yticks([])\n",
    "\n",
    "# 添加网格、标签和标题\n",
    "plt.grid(True)\n",
    "plt.xlabel('x (in multiples of π)')\n",
    "plt.title('Optimal Points on Parallel x-axes')\n",
    "plt.legend()\n",
    "\n",
    "# 显示图形\n",
    "plt.show()\n"
   ]
  },
  {
   "cell_type": "code",
   "execution_count": 7,
   "metadata": {},
   "outputs": [
    {
     "name": "stdout",
     "output_type": "stream",
     "text": [
      "5.5\n",
      "Optimal x_mu: [1.39696058 2.0850007  2.78978065 0.49853334]\n",
      "Minimal var: 4.5617894070405605\n"
     ]
    },
    {
     "ename": "KeyboardInterrupt",
     "evalue": "",
     "output_type": "error",
     "traceback": [
      "\u001b[1;31m---------------------------------------------------------------------------\u001b[0m",
      "\u001b[1;31mKeyboardInterrupt\u001b[0m                         Traceback (most recent call last)",
      "Cell \u001b[1;32mIn[7], line 99\u001b[0m\n\u001b[0;32m     96\u001b[0m tolerance \u001b[38;5;241m=\u001b[39m \u001b[38;5;241m1e-18\u001b[39m\n\u001b[0;32m     98\u001b[0m \u001b[38;5;66;03m# Differential Evolution\u001b[39;00m\n\u001b[1;32m---> 99\u001b[0m result_de \u001b[38;5;241m=\u001b[39m \u001b[43mdifferential_evolution\u001b[49m\u001b[43m(\u001b[49m\u001b[43mcalculate_var\u001b[49m\u001b[43m,\u001b[49m\u001b[43m \u001b[49m\u001b[43mbounds\u001b[49m\u001b[43m,\u001b[49m\u001b[43m \u001b[49m\u001b[43mmaxiter\u001b[49m\u001b[38;5;241;43m=\u001b[39;49m\u001b[43mmax_iter\u001b[49m\u001b[43m,\u001b[49m\u001b[43m \u001b[49m\u001b[43mtol\u001b[49m\u001b[38;5;241;43m=\u001b[39;49m\u001b[43mtolerance\u001b[49m\u001b[43m)\u001b[49m\n\u001b[0;32m    101\u001b[0m \u001b[38;5;66;03m# x_mu_initial = np.random.uniform(0, np.pi, r)\u001b[39;00m\n\u001b[0;32m    102\u001b[0m \u001b[38;5;66;03m# result_de = basinhopping(calculate_var, x_mu_initial, niter=100)\u001b[39;00m\n\u001b[0;32m    103\u001b[0m optimal_x_mu_de \u001b[38;5;241m=\u001b[39m result_de\u001b[38;5;241m.\u001b[39mx\n",
      "File \u001b[1;32mc:\\ProgramData\\anaconda3\\envs\\RCD\\lib\\site-packages\\scipy\\optimize\\_differentialevolution.py:402\u001b[0m, in \u001b[0;36mdifferential_evolution\u001b[1;34m(func, bounds, args, strategy, maxiter, popsize, tol, mutation, recombination, seed, callback, disp, polish, init, atol, updating, workers, constraints, x0, integrality, vectorized)\u001b[0m\n\u001b[0;32m    385\u001b[0m \u001b[38;5;66;03m# using a context manager means that any created Pool objects are\u001b[39;00m\n\u001b[0;32m    386\u001b[0m \u001b[38;5;66;03m# cleared up.\u001b[39;00m\n\u001b[0;32m    387\u001b[0m \u001b[38;5;28;01mwith\u001b[39;00m DifferentialEvolutionSolver(func, bounds, args\u001b[38;5;241m=\u001b[39margs,\n\u001b[0;32m    388\u001b[0m                                  strategy\u001b[38;5;241m=\u001b[39mstrategy,\n\u001b[0;32m    389\u001b[0m                                  maxiter\u001b[38;5;241m=\u001b[39mmaxiter,\n\u001b[1;32m   (...)\u001b[0m\n\u001b[0;32m    400\u001b[0m                                  integrality\u001b[38;5;241m=\u001b[39mintegrality,\n\u001b[0;32m    401\u001b[0m                                  vectorized\u001b[38;5;241m=\u001b[39mvectorized) \u001b[38;5;28;01mas\u001b[39;00m solver:\n\u001b[1;32m--> 402\u001b[0m     ret \u001b[38;5;241m=\u001b[39m \u001b[43msolver\u001b[49m\u001b[38;5;241;43m.\u001b[39;49m\u001b[43msolve\u001b[49m\u001b[43m(\u001b[49m\u001b[43m)\u001b[49m\n\u001b[0;32m    404\u001b[0m \u001b[38;5;28;01mreturn\u001b[39;00m ret\n",
      "File \u001b[1;32mc:\\ProgramData\\anaconda3\\envs\\RCD\\lib\\site-packages\\scipy\\optimize\\_differentialevolution.py:1022\u001b[0m, in \u001b[0;36mDifferentialEvolutionSolver.solve\u001b[1;34m(self)\u001b[0m\n\u001b[0;32m   1019\u001b[0m \u001b[38;5;28;01mfor\u001b[39;00m nit \u001b[38;5;129;01min\u001b[39;00m \u001b[38;5;28mrange\u001b[39m(\u001b[38;5;241m1\u001b[39m, \u001b[38;5;28mself\u001b[39m\u001b[38;5;241m.\u001b[39mmaxiter \u001b[38;5;241m+\u001b[39m \u001b[38;5;241m1\u001b[39m):\n\u001b[0;32m   1020\u001b[0m     \u001b[38;5;66;03m# evolve the population by a generation\u001b[39;00m\n\u001b[0;32m   1021\u001b[0m     \u001b[38;5;28;01mtry\u001b[39;00m:\n\u001b[1;32m-> 1022\u001b[0m         \u001b[38;5;28;43mnext\u001b[39;49m\u001b[43m(\u001b[49m\u001b[38;5;28;43mself\u001b[39;49m\u001b[43m)\u001b[49m\n\u001b[0;32m   1023\u001b[0m     \u001b[38;5;28;01mexcept\u001b[39;00m \u001b[38;5;167;01mStopIteration\u001b[39;00m:\n\u001b[0;32m   1024\u001b[0m         warning_flag \u001b[38;5;241m=\u001b[39m \u001b[38;5;28;01mTrue\u001b[39;00m\n",
      "File \u001b[1;32mc:\\ProgramData\\anaconda3\\envs\\RCD\\lib\\site-packages\\scipy\\optimize\\_differentialevolution.py:1409\u001b[0m, in \u001b[0;36mDifferentialEvolutionSolver.__next__\u001b[1;34m(self)\u001b[0m\n\u001b[0;32m   1407\u001b[0m     feasible \u001b[38;5;241m=\u001b[39m \u001b[38;5;28;01mTrue\u001b[39;00m\n\u001b[0;32m   1408\u001b[0m     cv \u001b[38;5;241m=\u001b[39m np\u001b[38;5;241m.\u001b[39matleast_2d([\u001b[38;5;241m0.\u001b[39m])\n\u001b[1;32m-> 1409\u001b[0m     energy \u001b[38;5;241m=\u001b[39m \u001b[38;5;28;43mself\u001b[39;49m\u001b[38;5;241;43m.\u001b[39;49m\u001b[43mfunc\u001b[49m\u001b[43m(\u001b[49m\u001b[43mparameters\u001b[49m\u001b[43m)\u001b[49m\n\u001b[0;32m   1410\u001b[0m     \u001b[38;5;28mself\u001b[39m\u001b[38;5;241m.\u001b[39m_nfev \u001b[38;5;241m+\u001b[39m\u001b[38;5;241m=\u001b[39m \u001b[38;5;241m1\u001b[39m\n\u001b[0;32m   1412\u001b[0m \u001b[38;5;66;03m# compare trial and population member\u001b[39;00m\n",
      "File \u001b[1;32mc:\\ProgramData\\anaconda3\\envs\\RCD\\lib\\site-packages\\scipy\\_lib\\_util.py:360\u001b[0m, in \u001b[0;36m_FunctionWrapper.__call__\u001b[1;34m(self, x)\u001b[0m\n\u001b[0;32m    359\u001b[0m \u001b[38;5;28;01mdef\u001b[39;00m \u001b[38;5;21m__call__\u001b[39m(\u001b[38;5;28mself\u001b[39m, x):\n\u001b[1;32m--> 360\u001b[0m     \u001b[38;5;28;01mreturn\u001b[39;00m \u001b[38;5;28;43mself\u001b[39;49m\u001b[38;5;241;43m.\u001b[39;49m\u001b[43mf\u001b[49m\u001b[43m(\u001b[49m\u001b[43mx\u001b[49m\u001b[43m,\u001b[49m\u001b[43m \u001b[49m\u001b[38;5;241;43m*\u001b[39;49m\u001b[38;5;28;43mself\u001b[39;49m\u001b[38;5;241;43m.\u001b[39;49m\u001b[43margs\u001b[49m\u001b[43m)\u001b[49m\n",
      "Cell \u001b[1;32mIn[7], line 23\u001b[0m, in \u001b[0;36mcalculate_var\u001b[1;34m(x_mu, reg_param)\u001b[0m\n\u001b[0;32m     21\u001b[0m \u001b[38;5;66;03m# Calculate the inverse of A and the dot product with p0\u001b[39;00m\n\u001b[0;32m     22\u001b[0m \u001b[38;5;28;01mtry\u001b[39;00m:\n\u001b[1;32m---> 23\u001b[0m     dot_product_result \u001b[38;5;241m=\u001b[39m \u001b[43mnp\u001b[49m\u001b[38;5;241;43m.\u001b[39;49m\u001b[43mdot\u001b[49m\u001b[43m(\u001b[49m\u001b[43mnp\u001b[49m\u001b[38;5;241;43m.\u001b[39;49m\u001b[43mlinalg\u001b[49m\u001b[38;5;241;43m.\u001b[39;49m\u001b[43minv\u001b[49m\u001b[43m(\u001b[49m\u001b[43mA\u001b[49m\u001b[43m)\u001b[49m\u001b[38;5;241;43m.\u001b[39;49m\u001b[43mT\u001b[49m\u001b[43m,\u001b[49m\u001b[43m \u001b[49m\u001b[43mp0\u001b[49m\u001b[43m)\u001b[49m\n\u001b[0;32m     24\u001b[0m     var \u001b[38;5;241m=\u001b[39m \u001b[38;5;241m0.5\u001b[39m \u001b[38;5;241m*\u001b[39m np\u001b[38;5;241m.\u001b[39msum(dot_product_result\u001b[38;5;241m*\u001b[39m\u001b[38;5;241m*\u001b[39m\u001b[38;5;241m2\u001b[39m)\n\u001b[0;32m     25\u001b[0m \u001b[38;5;28;01mexcept\u001b[39;00m np\u001b[38;5;241m.\u001b[39mlinalg\u001b[38;5;241m.\u001b[39mLinAlgError:\n\u001b[0;32m     26\u001b[0m     \u001b[38;5;66;03m# In case A is singular, return a large number\u001b[39;00m\n",
      "File \u001b[1;32m<__array_function__ internals>:180\u001b[0m, in \u001b[0;36mdot\u001b[1;34m(*args, **kwargs)\u001b[0m\n",
      "\u001b[1;31mKeyboardInterrupt\u001b[0m: "
     ]
    }
   ],
   "source": [
    "import numpy as np\n",
    "from scipy.optimize import differential_evolution\n",
    "import matplotlib.pyplot as plt\n",
    "\n",
    "# Define r\n",
    "r = 4\n",
    "print((2*r**2+1)/6)\n",
    "\n",
    "# Initialize p0\n",
    "d = 1\n",
    "p0 = np.array([mu**d for mu in range(1, r + 1)])\n",
    "\n",
    "# Define the function to calculate var based on x_mu\n",
    "def calculate_var(x_mu, reg_param=1e-5):\n",
    "    # Create matrix A based on x_mu\n",
    "    A = np.array([[np.sin(n * x) for n in range(1, r + 1)] for x in x_mu])\n",
    "    \n",
    "    # Add a small regularization term to the diagonal of A\n",
    "    A += reg_param * np.eye(r)\n",
    "    \n",
    "    # Calculate the inverse of A and the dot product with p0\n",
    "    try:\n",
    "        dot_product_result = np.dot(np.linalg.inv(A).T, p0)\n",
    "        var = 0.5 * np.sum(dot_product_result**2)\n",
    "    except np.linalg.LinAlgError:\n",
    "        # In case A is singular, return a large number\n",
    "        var = np.inf\n",
    "    return var\n",
    "\n",
    "# Define the bounds for x_mu (0 to 2π for each element)\n",
    "bounds = [(0, np.pi) for _ in range(r)]\n",
    "\n",
    "# Run multiple optimizations with different initial guesses\n",
    "n_trials = 2  # Number of different initial solutions\n",
    "all_optimal_x_mu = []\n",
    "\n",
    "# # Define the analytical gradient computation\n",
    "def analytical_gradient1(x):\n",
    "    r = len(x)\n",
    "    A = np.array([[np.sin(k * x[i]) for k in range(1, r+1)] for i in range(r)])\n",
    "    A_1 = np.array([[k * np.cos(k * x[i]) for k in range(1, r+1)] for i in range(r)])\n",
    "    A_t_A_inv = np.linalg.inv(A.T @ A)\n",
    "    D = A_1 @ A_t_A_inv @ np.outer(p0, p0) @ np.linalg.inv(A)\n",
    "    \n",
    "    grad = - np.diag(D)\n",
    "    return grad\n",
    "\n",
    "def analytical_gradient2(x):\n",
    "    r = len(x)\n",
    "    \n",
    "    # 计算矩阵 A\n",
    "    A = np.array([[np.sin(k * x[i]) for k in range(1, r+1)] for i in range(r)])\n",
    "    print(\"Matrix A:\\n\", A)\n",
    "    \n",
    "    # 计算矩阵 A_1\n",
    "    A_1 = np.array([[k * np.cos(k * x[i]) for k in range(1, r+1)] for i in range(r)])\n",
    "    print(\"Matrix A_1:\\n\", A_1)\n",
    "    \n",
    "    # 计算 A^{-1}\n",
    "    A_inv = np.linalg.inv(A)\n",
    "    print(\"Matrix A_inv (A^{-1}):\\n\", A_inv)\n",
    "    \n",
    "    # 计算 A_1 * A^{-1}\n",
    "    A1_Ainv = A_1 @ A_inv\n",
    "    print(\"Matrix A_1 * A^{-1}:\\n\", A1_Ainv)\n",
    "    \n",
    "    # 计算 b\n",
    "    b = A_inv.T @ p0\n",
    "    print(\"Vector b (A_inv.T * p0):\\n\", b)\n",
    "    \n",
    "    # 计算 b * b^T\n",
    "    bb_T = np.outer(b, b)\n",
    "    print(\"Matrix b * b^T:\\n\", bb_T)\n",
    "    \n",
    "    # 计算 A.T @ A\n",
    "    A_t_A = A.T @ A\n",
    "    print(\"Matrix A.T @ A:\\n\", A_t_A)\n",
    "    \n",
    "    # 计算 (A.T @ A) 的逆矩阵\n",
    "    A_t_A_inv = np.linalg.inv(A_t_A)\n",
    "    print(\"Matrix A_t_A_inv:\\n\", A_t_A_inv)\n",
    "    \n",
    "    # 计算 D 矩阵\n",
    "    D = A_1 @ A_t_A_inv @ np.outer(p0, p0) @ np.linalg.inv(A)\n",
    "    print(\"Matrix D:\\n\", D)\n",
    "    \n",
    "    # 计算梯度\n",
    "    grad = - np.diag(D)\n",
    "    print(\"Gradient:\\n\", grad)\n",
    "    \n",
    "    return grad\n",
    "\n",
    "for i in range(n_trials):\n",
    "    # 增加迭代次数和更小的容差\n",
    "    max_iter = 3000\n",
    "    tolerance = 1e-18\n",
    "\n",
    "    # Differential Evolution\n",
    "    result_de = differential_evolution(calculate_var, bounds, maxiter=max_iter, tol=tolerance)\n",
    "\n",
    "    # x_mu_initial = np.random.uniform(0, np.pi, r)\n",
    "    # result_de = basinhopping(calculate_var, x_mu_initial, niter=100)\n",
    "    optimal_x_mu_de = result_de.x\n",
    "    # print(\"norm of radient at optimal x_mu:\", np.linalg.norm(analytical_gradient2(optimal_x_mu_de)))\n",
    "    print(\"Optimal x_mu:\", optimal_x_mu_de)\n",
    "    print(\"Minimal var:\", result_de.fun)\n",
    "    all_optimal_x_mu.append(optimal_x_mu_de)\n",
    "\n",
    "# Plotting the results\n",
    "plt.figure(figsize=(10, 6))\n",
    "\n",
    "for i, optimal_x_mu_de in enumerate(all_optimal_x_mu):\n",
    "    plt.scatter(optimal_x_mu_de / np.pi, np.zeros_like(optimal_x_mu_de) + i, color='red', s=100, label='Optimal x_mu' if i == 0 else \"\")\n",
    "\n",
    "# Set x-axis ticks to multiples of pi\n",
    "plt.xticks(ticks=np.arange(0, 2.5, 0.5), labels=[f'{i}$\\pi$' for i in np.arange(0, 2.5, 0.5)])\n",
    "\n",
    "# Set y-axis ticks to empty since we only care about the x-axis positions\n",
    "plt.yticks([])\n",
    "\n",
    "# Add grid, labels, and title\n",
    "plt.grid(True)\n",
    "plt.xlabel('x (in multiples of π)')\n",
    "plt.title('Optimal Solutions from Multiple Runs of Differential Evolution')\n",
    "\n",
    "# Show the plot\n",
    "plt.show()\n",
    "\n",
    "# Convert to numpy array for easier processing\n",
    "all_optimal_x_mu = np.array(all_optimal_x_mu)\n",
    "\n",
    "# Consider numbers close enough to be the same by rounding\n",
    "tolerance = 1e-5  # Set an appropriate tolerance for uniqueness\n",
    "unique_x_mu = np.unique(np.round(all_optimal_x_mu / np.pi, decimals=int(-np.log10(tolerance)))) * np.pi\n",
    "unique_x_mu = np.sort(unique_x_mu)\n",
    "\n",
    "# Print the unique elements\n",
    "print(\"Unique optimal x_mu values (in multiples of π):\")\n",
    "for val in unique_x_mu:\n",
    "    print(f\"{val/np.pi:.5f}π ({val:.5f} radians)\")"
   ]
  },
  {
   "cell_type": "code",
   "execution_count": null,
   "metadata": {},
   "outputs": [
    {
     "name": "stdout",
     "output_type": "stream",
     "text": [
      "-0.89842755\n",
      "-0.6880401599999999\n",
      "-0.70477781\n"
     ]
    }
   ],
   "source": [
    "# 原始数组\n",
    "arr = np.array([0.49853253, 1.39696008, 2.78977805, 2.08500024])\n",
    "\n",
    "# 排序\n",
    "sorted_arr = np.sort(arr)\n",
    "\n",
    "# 打印相邻两个元素\n",
    "for i in range(len(sorted_arr) - 1):\n",
    "    print(f\"{sorted_arr[i]-sorted_arr[i + 1]}\")"
   ]
  },
  {
   "cell_type": "code",
   "execution_count": null,
   "metadata": {},
   "outputs": [
    {
     "data": {
      "text/plain": [
       "0.6674147835664509"
      ]
     },
     "execution_count": 85,
     "metadata": {},
     "output_type": "execute_result"
    }
   ],
   "source": [
    "np.pi/(r+np.sqrt(0.5))"
   ]
  },
  {
   "cell_type": "code",
   "execution_count": null,
   "metadata": {},
   "outputs": [
    {
     "name": "stdout",
     "output_type": "stream",
     "text": [
      "[-5.06274689e-05  6.03378482e-06 -1.55219199e-05  1.07217231e-06]\n",
      "5.330691058841131e-05\n"
     ]
    }
   ],
   "source": [
    "Omegas=np.arange(1, r + 1)\n",
    "def analytical_gradient(x, Omegas):\n",
    "    p = Omegas ** d * (-1 if d % 4 == 3 else 1)\n",
    "    A = np.sin(np.outer(x, Omegas))\n",
    "    A_1 = np.cos(np.outer(x, Omegas)) * Omegas\n",
    "    A_inv = np.linalg.inv(A)\n",
    "    b = np.linalg.inv(A.T) @ p\n",
    "    grad = -np.diag(A_1 @ A_inv @ np.outer(b, b))\n",
    "    return grad\n",
    "\n",
    "optimal_grad = analytical_gradient(optimal_x_mu_de, Omegas)\n",
    "print(optimal_grad)\n",
    "print(np.linalg.norm(optimal_grad))"
   ]
  },
  {
   "cell_type": "code",
   "execution_count": null,
   "metadata": {},
   "outputs": [
    {
     "name": "stdout",
     "output_type": "stream",
     "text": [
      "[-4.25793033e-04 -8.96337746e-05 -1.05062990e-02 -8.50315602e-02]\n",
      "0.08567927334966084\n"
     ]
    }
   ],
   "source": [
    "x= np.array([0.15869*np.pi, \n",
    "             (0.44467)*np.pi, \n",
    "             (0.44467+0.219)*np.pi,\n",
    "             (0.44467+0.219*2)*np.pi])\n",
    "\n",
    "optimal_grad = analytical_gradient(x, Omegas)\n",
    "print(optimal_grad)\n",
    "print(np.linalg.norm(optimal_grad))"
   ]
  },
  {
   "cell_type": "code",
   "execution_count": null,
   "metadata": {},
   "outputs": [
    {
     "data": {
      "text/plain": [
       "0.18288000000000004"
      ]
     },
     "execution_count": 69,
     "metadata": {},
     "output_type": "execute_result"
    }
   ],
   "source": [
    "0.90859-0.72571"
   ]
  },
  {
   "cell_type": "code",
   "execution_count": null,
   "metadata": {},
   "outputs": [
    {
     "data": {
      "text/plain": [
       "0.18326999999999993"
      ]
     },
     "execution_count": 70,
     "metadata": {},
     "output_type": "execute_result"
    }
   ],
   "source": [
    "0.72571-0.54244"
   ]
  },
  {
   "cell_type": "code",
   "execution_count": null,
   "metadata": {},
   "outputs": [
    {
     "data": {
      "text/plain": [
       "0.17883000000000004"
      ]
     },
     "execution_count": 71,
     "metadata": {},
     "output_type": "execute_result"
    }
   ],
   "source": [
    "0.54244-0.36361"
   ]
  },
  {
   "cell_type": "code",
   "execution_count": null,
   "metadata": {},
   "outputs": [
    {
     "data": {
      "text/plain": [
       "array([0.49853253, 1.39696008, 2.78977805, 2.08500024])"
      ]
     },
     "execution_count": 72,
     "metadata": {},
     "output_type": "execute_result"
    }
   ],
   "source": [
    "optimal_x_mu_de"
   ]
  },
  {
   "cell_type": "code",
   "execution_count": null,
   "metadata": {},
   "outputs": [
    {
     "data": {
      "text/plain": [
       "6.28318"
      ]
     },
     "execution_count": 73,
     "metadata": {},
     "output_type": "execute_result"
    }
   ],
   "source": [
    "0.91172+5.37146"
   ]
  },
  {
   "cell_type": "code",
   "execution_count": null,
   "metadata": {},
   "outputs": [],
   "source": [
    "# calculate_var([0.64393,1.79825,3.59668], reg_param=1e-5)"
   ]
  },
  {
   "cell_type": "code",
   "execution_count": null,
   "metadata": {},
   "outputs": [
    {
     "data": {
      "text/plain": [
       "array([0.49853934, 1.39697201, 2.08501221, 2.78976569])"
      ]
     },
     "execution_count": 75,
     "metadata": {},
     "output_type": "execute_result"
    }
   ],
   "source": [
    "unique_x_mu"
   ]
  },
  {
   "cell_type": "code",
   "execution_count": null,
   "metadata": {},
   "outputs": [
    {
     "ename": "ValueError",
     "evalue": "operands could not be broadcast together with shapes (2,4) (4,4) (2,4) ",
     "output_type": "error",
     "traceback": [
      "\u001b[1;31m---------------------------------------------------------------------------\u001b[0m",
      "\u001b[1;31mValueError\u001b[0m                                Traceback (most recent call last)",
      "Cell \u001b[1;32mIn[76], line 30\u001b[0m\n\u001b[0;32m     28\u001b[0m \u001b[38;5;28;01mfor\u001b[39;00m i, indices \u001b[38;5;129;01min\u001b[39;00m \u001b[38;5;28menumerate\u001b[39m(index_sets):\n\u001b[0;32m     29\u001b[0m     x_mu \u001b[38;5;241m=\u001b[39m unique_x_mu[np\u001b[38;5;241m.\u001b[39marray(indices) \u001b[38;5;241m-\u001b[39m \u001b[38;5;241m1\u001b[39m]  \u001b[38;5;66;03m# Convert 1-based to 0-based index\u001b[39;00m\n\u001b[1;32m---> 30\u001b[0m     var_value \u001b[38;5;241m=\u001b[39m \u001b[43mcalculate_var\u001b[49m\u001b[43m(\u001b[49m\u001b[43mx_mu\u001b[49m\u001b[43m)\u001b[49m\n\u001b[0;32m     33\u001b[0m     A \u001b[38;5;241m=\u001b[39m np\u001b[38;5;241m.\u001b[39marray([[np\u001b[38;5;241m.\u001b[39msin(n \u001b[38;5;241m*\u001b[39m x) \u001b[38;5;28;01mfor\u001b[39;00m n \u001b[38;5;129;01min\u001b[39;00m \u001b[38;5;28mrange\u001b[39m(\u001b[38;5;241m1\u001b[39m, r \u001b[38;5;241m+\u001b[39m \u001b[38;5;241m1\u001b[39m)] \u001b[38;5;28;01mfor\u001b[39;00m x \u001b[38;5;129;01min\u001b[39;00m x_mu])\n\u001b[0;32m     34\u001b[0m     ATA \u001b[38;5;241m=\u001b[39m A\u001b[38;5;241m.\u001b[39mT \u001b[38;5;241m@\u001b[39m A\n",
      "Cell \u001b[1;32mIn[64], line 19\u001b[0m, in \u001b[0;36mcalculate_var\u001b[1;34m(x_mu, reg_param)\u001b[0m\n\u001b[0;32m     16\u001b[0m A \u001b[38;5;241m=\u001b[39m np\u001b[38;5;241m.\u001b[39marray([[np\u001b[38;5;241m.\u001b[39msin(n \u001b[38;5;241m*\u001b[39m x) \u001b[38;5;28;01mfor\u001b[39;00m n \u001b[38;5;129;01min\u001b[39;00m \u001b[38;5;28mrange\u001b[39m(\u001b[38;5;241m1\u001b[39m, r \u001b[38;5;241m+\u001b[39m \u001b[38;5;241m1\u001b[39m)] \u001b[38;5;28;01mfor\u001b[39;00m x \u001b[38;5;129;01min\u001b[39;00m x_mu])\n\u001b[0;32m     18\u001b[0m \u001b[38;5;66;03m# Add a small regularization term to the diagonal of A\u001b[39;00m\n\u001b[1;32m---> 19\u001b[0m A \u001b[38;5;241m+\u001b[39m\u001b[38;5;241m=\u001b[39m reg_param \u001b[38;5;241m*\u001b[39m np\u001b[38;5;241m.\u001b[39meye(r)\n\u001b[0;32m     21\u001b[0m \u001b[38;5;66;03m# Calculate the inverse of A and the dot product with p0\u001b[39;00m\n\u001b[0;32m     22\u001b[0m \u001b[38;5;28;01mtry\u001b[39;00m:\n",
      "\u001b[1;31mValueError\u001b[0m: operands could not be broadcast together with shapes (2,4) (4,4) (2,4) "
     ]
    }
   ],
   "source": [
    "# Given index sets\n",
    "index_sets = [\n",
    "    (1, 2, 3),\n",
    "    (1, 3, 2),\n",
    "    (3, 1, 2),\n",
    "    (3, 2, 1),\n",
    "    # (1, 2, 4),\n",
    "    # (1, 3, 5),\n",
    "    # (1, 4, 5),\n",
    "    # (2, 3, 6),\n",
    "    # (2, 4, 6),\n",
    "    # (3, 5, 6),\n",
    "    # (4, 5, 6)\n",
    "]\n",
    "\n",
    "index_sets = [\n",
    "    # (1, 3),\n",
    "    (1, 2),\n",
    "    # (2, 4),\n",
    "    # (3, 4)\n",
    "]\n",
    "\n",
    "# Store the first result for comparison\n",
    "first_var_value = None\n",
    "are_all_equal = True\n",
    "\n",
    "# Iterate through each index set, extract elements from unique_x_mu, and compute the var\n",
    "for i, indices in enumerate(index_sets):\n",
    "    x_mu = unique_x_mu[np.array(indices) - 1]  # Convert 1-based to 0-based index\n",
    "    var_value = calculate_var(x_mu)\n",
    "\n",
    "\n",
    "    A = np.array([[np.sin(n * x) for n in range(1, r + 1)] for x in x_mu])\n",
    "    ATA = A.T @ A\n",
    "    dot_product_result = np.dot(np.linalg.inv(A).T, p0)\n",
    "    var = 0.5 * np.sum(dot_product_result**2)\n",
    "    print(A)\n",
    "    print(ATA)\n",
    "    print(dot_product_result)\n",
    "    print(var)\n",
    "\n",
    "\n",
    "    # On first iteration, store the var value to compare with subsequent results\n",
    "    if i == 0:\n",
    "        first_var_value = var_value\n",
    "    else:\n",
    "        # Compare with the first var value\n",
    "        if not np.isclose(var_value, first_var_value, atol=1e-4):\n",
    "            are_all_equal = False\n",
    "    \n",
    "    print(f\"Index set {indices}: x_mu = {x_mu}, calculate_var = {var_value}\")\n",
    "\n",
    "# Print the final result of the comparison\n",
    "if are_all_equal:\n",
    "    print(\"All calculate_var results are equal.\")\n",
    "else:\n",
    "    print(\"Not all calculate_var results are equal.\")"
   ]
  },
  {
   "cell_type": "code",
   "execution_count": null,
   "metadata": {},
   "outputs": [
    {
     "name": "stdout",
     "output_type": "stream",
     "text": [
      "[[-1.42979737  0.94116018]\n",
      " [ 0.94116018 -0.58371786]]\n",
      "-2.805700829489055e-05\n",
      "[[-1.04421671 -0.05867559]\n",
      " [-0.05867559  0.31972926]]\n",
      "-2.019329357283439e-06\n"
     ]
    }
   ],
   "source": [
    "import numpy as np\n",
    "x_mu = [2.52609182,5.3714637]\n",
    "A = np.array([[np.sin(n * x) for n in range(1, r + 1)] for x in x_mu])\n",
    "M = np.linalg.inv(A.T @ A)\n",
    "\n",
    "def compute_matrix(x):\n",
    "    sin_x = np.sin(x)\n",
    "    cos_x = np.cos(x)\n",
    "    sin_2x = np.sin(2 * x)\n",
    "    cos_2x = np.cos(2 * x)\n",
    "    \n",
    "    matrix = np.array([\n",
    "        [2 * sin_x * cos_x, cos_x * sin_2x + 2 * cos_2x * sin_x],\n",
    "        [cos_x * sin_2x + 2 * cos_2x * sin_x, 4 * sin_2x * cos_2x]\n",
    "    ])\n",
    "    print(M @ matrix @ M )\n",
    "    return np.sum((M @ matrix @ M ) * (np.outer(p0,p0)))\n",
    "\n",
    "print(compute_matrix(x_mu[0]))\n",
    "print(compute_matrix(x_mu[1]))"
   ]
  },
  {
   "cell_type": "code",
   "execution_count": null,
   "metadata": {},
   "outputs": [
    {
     "data": {
      "text/plain": [
       "array([ 0.46984193, -1.60806948])"
      ]
     },
     "execution_count": 14,
     "metadata": {},
     "output_type": "execute_result"
    }
   ],
   "source": [
    "x = [3.75710181,5.37146315]\n",
    "x1=x[0]\n",
    "x2=x[1]\n",
    "\n",
    "# Compute the components\n",
    "denominator = np.sin(x1) * np.sin(2 * x2) - np.sin(x2) * np.sin(2 * x1)\n",
    "vector = np.array([np.sin(2 * x2) - 2 * np.sin(x2),\n",
    "                   2 * np.sin(x1) - np.sin(2 * x1)])\n",
    "\n",
    "# Compute the final result\n",
    "result = (1 / denominator) * vector\n",
    "result"
   ]
  },
  {
   "cell_type": "code",
   "execution_count": null,
   "metadata": {},
   "outputs": [
    {
     "data": {
      "text/plain": [
       "1.4033194536790972"
      ]
     },
     "execution_count": 15,
     "metadata": {},
     "output_type": "execute_result"
    }
   ],
   "source": [
    "0.5*np.sum(result**2)"
   ]
  },
  {
   "cell_type": "code",
   "execution_count": null,
   "metadata": {},
   "outputs": [
    {
     "data": {
      "text/plain": [
       "1.4033194536790967"
      ]
     },
     "execution_count": 16,
     "metadata": {},
     "output_type": "execute_result"
    }
   ],
   "source": [
    "# Compute the components of the expression\n",
    "term1 = (np.cos(x2) - 1)**2 / (np.sin(x1)**2 * (np.cos(x1) - np.cos(x2))**2)\n",
    "term2 = (np.cos(x1) - 1)**2 / (np.sin(x2)**2 * (np.cos(x1) - np.cos(x2))**2)\n",
    "\n",
    "# Compute the final result\n",
    "result = 0.5 * (term1 + term2)\n",
    "result"
   ]
  },
  {
   "cell_type": "code",
   "execution_count": null,
   "metadata": {},
   "outputs": [
    {
     "data": {
      "text/plain": [
       "(-0.5773743129181707, -0.7905595350515964)"
      ]
     },
     "execution_count": 17,
     "metadata": {},
     "output_type": "execute_result"
    }
   ],
   "source": [
    "# Compute the first expression\n",
    "expression1 = (\n",
    "    (np.cos(x2) - 1)**2 * np.sin(x2)**2 * (np.cos(x1) * np.cos(x2) - np.cos(2 * x1))\n",
    "    + np.sin(x1)**4 * (np.cos(x1) - 1) * (np.cos(x2) - 1)\n",
    ")\n",
    "\n",
    "# Compute the second expression\n",
    "expression2 = (\n",
    "    (np.cos(x1) - 1)**2 * np.sin(x1)**2 * (np.cos(x1) * np.cos(x2) - np.cos(2 * x2))\n",
    "    + np.sin(x2)**4 * (np.cos(x1) - 1) * (np.cos(x2) - 1)\n",
    ")\n",
    "\n",
    "np.sin(x1),np.sin(x2)\n"
   ]
  }
 ],
 "metadata": {
  "kernelspec": {
   "display_name": "RCD",
   "language": "python",
   "name": "python3"
  },
  "language_info": {
   "codemirror_mode": {
    "name": "ipython",
    "version": 3
   },
   "file_extension": ".py",
   "mimetype": "text/x-python",
   "name": "python",
   "nbconvert_exporter": "python",
   "pygments_lexer": "ipython3",
   "version": "3.10.14"
  }
 },
 "nbformat": 4,
 "nbformat_minor": 2
}
