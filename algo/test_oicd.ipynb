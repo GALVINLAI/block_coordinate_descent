{
 "cells": [
  {
   "cell_type": "code",
   "execution_count": 1,
   "metadata": {},
   "outputs": [],
   "source": [
    "import numpy as np\n",
    "from scipy.optimize import differential_evolution\n",
    "\n",
    "import numpy as np\n",
    "from scipy.linalg import expm\n",
    "import matplotlib.pyplot as plt\n",
    "\n",
    "import jax\n",
    "import jax.random as jrd\n",
    "import numpy as np\n",
    "import os\n",
    "import shutil\n",
    "import matplotlib.pyplot as plt\n",
    "from tqdm import trange\n",
    "from scipy.optimize import minimize\n",
    "\n",
    "import numpy as np\n",
    "from scipy.linalg import expm"
   ]
  },
  {
   "cell_type": "markdown",
   "metadata": {},
   "source": [
    "# 生成随机数据的目标函数"
   ]
  },
  {
   "cell_type": "markdown",
   "metadata": {},
   "source": [
    "## 生成随机数据"
   ]
  },
  {
   "cell_type": "markdown",
   "metadata": {},
   "source": [
    "### 生成随机初始状态"
   ]
  },
  {
   "cell_type": "code",
   "execution_count": 2,
   "metadata": {},
   "outputs": [
    {
     "name": "stdout",
     "output_type": "stream",
     "text": [
      "[0.21248491-0.7479089j  0.59126629+0.21421159j]\n"
     ]
    }
   ],
   "source": [
    "# initial state |0>\n",
    "def generate_random_initial_state(num_qubit):\n",
    "    # 生成一个长度为 2**num_qubit 的随机复数向量\n",
    "    vector = np.random.randn(2**num_qubit) + 1j * np.random.randn(2**num_qubit)\n",
    "    \n",
    "    # 归一化到单位模长\n",
    "    unit_vector = vector / np.linalg.norm(vector)\n",
    "    \n",
    "    return unit_vector\n",
    "\n",
    "# 示例\n",
    "num_qubit = 1\n",
    "initial_state = generate_random_initial_state(num_qubit)\n",
    "print(initial_state)"
   ]
  },
  {
   "cell_type": "markdown",
   "metadata": {},
   "source": [
    "### 生成随机可观测量 "
   ]
  },
  {
   "cell_type": "code",
   "execution_count": 3,
   "metadata": {},
   "outputs": [
    {
     "name": "stdout",
     "output_type": "stream",
     "text": [
      "[[-1.57845857+0.j         -0.55533405-0.47439608j]\n",
      " [-0.55533405+0.47439608j -1.09297707+0.j        ]]\n"
     ]
    }
   ],
   "source": [
    "# Function to generate a random Hermitian matrix of a given size\n",
    "def generate_random_observable(num_qubit):\n",
    "    A = np.random.randn(2**num_qubit, 2**num_qubit) \n",
    "    A = A + 1j * np.random.randn(2**num_qubit, 2**num_qubit)  # Random complex matrix\n",
    "    M = (A + A.conj().T) / 2  # Hermitian part (A + A†)/2\n",
    "    return M\n",
    "\n",
    "# 示例\n",
    "num_qubit = 1\n",
    "M = generate_random_observable(num_qubit) # Define an example observable matrix (Hermitian)\n",
    "print(M)"
   ]
  },
  {
   "cell_type": "markdown",
   "metadata": {},
   "source": [
    "### 生成随机 hermitian generators"
   ]
  },
  {
   "cell_type": "markdown",
   "metadata": {},
   "source": [
    "#### 方式一：使用 Pauli 矩阵生成特定的 hermitian generators （等距频率）"
   ]
  },
  {
   "cell_type": "code",
   "execution_count": 4,
   "metadata": {},
   "outputs": [
    {
     "name": "stdout",
     "output_type": "stream",
     "text": [
      "Resulting matrix for X ⊗ Z ⊗ I:\n",
      "[[ 0  0  0  0  1  0  0  0]\n",
      " [ 0  0  0  0  0  1  0  0]\n",
      " [ 0  0  0  0  0  0 -1  0]\n",
      " [ 0  0  0  0  0  0  0 -1]\n",
      " [ 1  0  0  0  0  0  0  0]\n",
      " [ 0  1  0  0  0  0  0  0]\n",
      " [ 0  0 -1  0  0  0  0  0]\n",
      " [ 0  0  0 -1  0  0  0  0]]\n"
     ]
    }
   ],
   "source": [
    "# 定义 Pauli 矩阵，放入一个字典中\n",
    "pauli_matrices = {\n",
    "    'X': np.array([[0, 1], [1, 0]]),\n",
    "    'Y': np.array([[0, -1j], [1j, 0]]),\n",
    "    'Z': np.array([[1, 0], [0, -1]]),\n",
    "    'I': np.array([[1, 0], [0, 1]])\n",
    "}\n",
    "\n",
    "# 创建一个函数，用于计算多个 Pauli 矩阵的张量积\n",
    "def kron_product_from_words(words):\n",
    "    # 获取第一个 Pauli 矩阵\n",
    "    result = pauli_matrices[words[0]]\n",
    "    \n",
    "    # 对其余的矩阵进行张量积操作\n",
    "    for word in words[1:]:\n",
    "        result = np.kron(result, pauli_matrices[word])\n",
    "    \n",
    "    return result\n",
    "\n",
    "# 示例：计算 X ⊗ Z ⊗ I\n",
    "words = ['X', 'Z', 'I']\n",
    "result_matrix = kron_product_from_words(words)\n",
    "\n",
    "print(\"Resulting matrix for X ⊗ Z ⊗ I:\")\n",
    "print(result_matrix)\n"
   ]
  },
  {
   "cell_type": "markdown",
   "metadata": {},
   "source": [
    "这个生成方式通过以下步骤构造多个 Pauli 字符串：\n",
    "\n",
    "1. **初始化候选矩阵**：首先，为每个位置生成一个候选 Pauli 矩阵列表 `words_0`，其中每个位置的候选矩阵是从 \\( X, Y, Z \\) 中随机选择的。\n",
    "\n",
    "2. **生成 Pauli 字符串**：对于每个 Pauli 字符串，遍历每个位置：\n",
    "   - 对于每个位置 \\( i \\)，随机选择该位置的矩阵，可以是 \\( I \\)（单位矩阵）或 `words_0[i]` 中的矩阵。这样，某个位置的矩阵只会在该位置使用，确保生成的字符串满足特定的结构。\n",
    "\n",
    "3. **计算张量积**：对于生成的每个 Pauli 字符串，将其转换为对应的矩阵形式，计算其张量积。\n",
    "\n",
    "通过这种方式，生成的 Pauli 字符串满足：每个位置上的矩阵要么是单位矩阵 \\( I \\)，要么是从候选矩阵列表中选出的一个 Pauli 矩阵。"
   ]
  },
  {
   "cell_type": "code",
   "execution_count": 5,
   "metadata": {},
   "outputs": [
    {
     "name": "stdout",
     "output_type": "stream",
     "text": [
      "Generator: \n",
      "[[-1.+0.j  0.+0.j  0.-1.j  0.+0.j]\n",
      " [ 0.+0.j -1.+0.j  0.+0.j  0.+1.j]\n",
      " [ 0.+1.j  0.+0.j -1.+0.j  0.+0.j]\n",
      " [ 0.+0.j  0.-1.j  0.+0.j -1.+0.j]]\n",
      "\n",
      "Pauli String 1: ['Y', 'I']\n",
      "Pauli String 2: ['I', 'I']\n",
      "Pauli String 3: ['I', 'I']\n",
      "Pauli String 4: ['Y', 'I']\n",
      "Pauli String 5: ['Y', 'Z']\n",
      "Pauli String 6: ['I', 'I']\n"
     ]
    }
   ],
   "source": [
    "# 定义生成特殊生成元的函数\n",
    "def generate_special_generator(num_qubit, num_strings):\n",
    "    # 生成一个随机的 words_0\n",
    "    words_0 = [np.random.choice(['X', 'Y', 'Z']) for _ in range(num_qubit)]\n",
    "\n",
    "    # 生成 num_strings 个 Pauli 字符串\n",
    "    words_list = []\n",
    "\n",
    "    for _ in range(num_strings):\n",
    "        # 初始化一个全是 'I' 的列表\n",
    "        words = ['I'] * num_qubit\n",
    "\n",
    "        for i in range(num_qubit):\n",
    "            # 在第 i 个位置的随机从 ['I'] 或 words_0[i] 中选择\n",
    "            words[i] = np.random.choice(['I', words_0[i]])\n",
    "\n",
    "        words_list.append(words)\n",
    "  \n",
    "    # 初始化最终的 generator\n",
    "    generator = np.zeros((2**num_qubit, 2**num_qubit), dtype=complex)\n",
    "\n",
    "    # 对于 words_list 中的每一个 word，计算其张量积矩阵并累加\n",
    "    for words in words_list:\n",
    "        sign = np.random.choice([1, -1])  # 生成随机符号（+或-）\n",
    "        generator += sign * kron_product_from_words(words)  # 加入符号并累加\n",
    "\n",
    "    return generator, words_list\n",
    "\n",
    "# 示例：生成 6 个 Pauli 字符串，长度为 2\n",
    "num_qubit = 2\n",
    "num_strings = 6\n",
    "generator, pauli_strings = generate_special_generator(num_qubit, num_strings)\n",
    "\n",
    "# 输出生成的 Pauli 字符串及其张量积\n",
    "print(f\"Generator: \\n{generator}\\n\")\n",
    "for i, string in enumerate(pauli_strings):\n",
    "    print(f\"Pauli String {i+1}: {string}\")"
   ]
  },
  {
   "cell_type": "code",
   "execution_count": 6,
   "metadata": {},
   "outputs": [
    {
     "name": "stdout",
     "output_type": "stream",
     "text": [
      "Generator_0:\n",
      "  Generator H: \n",
      " [[ 1.+0.j  0.+3.j  0.+0.j  0.+0.j  0.+0.j  0.+0.j  0.+0.j  0.+0.j]\n",
      " [ 0.-3.j  1.+0.j  0.+0.j  0.+0.j  0.+0.j  0.+0.j  0.+0.j  0.+0.j]\n",
      " [ 0.+0.j  0.+0.j -3.+0.j  0.-1.j  0.+0.j  0.+0.j  0.+0.j  0.+0.j]\n",
      " [ 0.+0.j  0.+0.j  0.+1.j -3.+0.j  0.+0.j  0.+0.j  0.+0.j  0.+0.j]\n",
      " [ 0.+0.j  0.+0.j  0.+0.j  0.+0.j  1.+0.j  0.+3.j  0.+0.j  0.+0.j]\n",
      " [ 0.+0.j  0.+0.j  0.+0.j  0.+0.j  0.-3.j  1.+0.j  0.+0.j  0.+0.j]\n",
      " [ 0.+0.j  0.+0.j  0.+0.j  0.+0.j  0.+0.j  0.+0.j -3.+0.j  0.-1.j]\n",
      " [ 0.+0.j  0.+0.j  0.+0.j  0.+0.j  0.+0.j  0.+0.j  0.+1.j -3.+0.j]]\n",
      "  Pauli String 1: ['I', 'Z', 'Y']\n",
      "  Pauli String 2: ['I', 'I', 'Y']\n",
      "  Pauli String 3: ['I', 'Z', 'I']\n",
      "  Pauli String 4: ['I', 'I', 'I']\n",
      "  Pauli String 5: ['I', 'Z', 'Y']\n",
      "  Pauli String 6: ['I', 'Z', 'I']\n",
      "\n",
      "\n",
      "Generator_1:\n",
      "  Generator H: \n",
      " [[ 2.+0.j  1.+0.j  0.+0.j  0.+0.j  0.+0.j -1.+0.j  0.+0.j  0.+0.j]\n",
      " [ 1.+0.j  2.+0.j  0.+0.j  0.+0.j -1.+0.j  0.+0.j  0.+0.j  0.+0.j]\n",
      " [ 0.+0.j  0.+0.j  0.+0.j -1.+0.j  0.+0.j  0.+0.j  0.+0.j -1.+0.j]\n",
      " [ 0.+0.j  0.+0.j -1.+0.j  0.+0.j  0.+0.j  0.+0.j -1.+0.j  0.+0.j]\n",
      " [ 0.+0.j -1.+0.j  0.+0.j  0.+0.j  2.+0.j  1.+0.j  0.+0.j  0.+0.j]\n",
      " [-1.+0.j  0.+0.j  0.+0.j  0.+0.j  1.+0.j  2.+0.j  0.+0.j  0.+0.j]\n",
      " [ 0.+0.j  0.+0.j  0.+0.j -1.+0.j  0.+0.j  0.+0.j  0.+0.j -1.+0.j]\n",
      " [ 0.+0.j  0.+0.j -1.+0.j  0.+0.j  0.+0.j  0.+0.j -1.+0.j  0.+0.j]]\n",
      "  Pauli String 1: ['I', 'Z', 'X']\n",
      "  Pauli String 2: ['X', 'Z', 'I']\n",
      "  Pauli String 3: ['X', 'Z', 'I']\n",
      "  Pauli String 4: ['I', 'I', 'I']\n",
      "  Pauli String 5: ['X', 'I', 'X']\n",
      "  Pauli String 6: ['I', 'Z', 'I']\n",
      "\n",
      "\n",
      "Generator_2:\n",
      "  Generator H: \n",
      " [[ 1.+0.j  0.+1.j  0.+1.j -1.+0.j  0.+0.j  0.+0.j  0.+0.j  0.+0.j]\n",
      " [ 0.-1.j  1.+0.j  1.+0.j  0.+1.j  0.+0.j  0.+0.j  0.+0.j  0.+0.j]\n",
      " [ 0.-1.j  1.+0.j  1.+0.j  0.+1.j  0.+0.j  0.+0.j  0.+0.j  0.+0.j]\n",
      " [-1.+0.j  0.-1.j  0.-1.j  1.+0.j  0.+0.j  0.+0.j  0.+0.j  0.+0.j]\n",
      " [ 0.+0.j  0.+0.j  0.+0.j  0.+0.j -3.+0.j  0.+1.j  0.+1.j -1.+0.j]\n",
      " [ 0.+0.j  0.+0.j  0.+0.j  0.+0.j  0.-1.j -3.+0.j  1.+0.j  0.+1.j]\n",
      " [ 0.+0.j  0.+0.j  0.+0.j  0.+0.j  0.-1.j  1.+0.j -3.+0.j  0.+1.j]\n",
      " [ 0.+0.j  0.+0.j  0.+0.j  0.+0.j -1.+0.j  0.-1.j  0.-1.j -3.+0.j]]\n",
      "  Pauli String 1: ['I', 'Y', 'Y']\n",
      "  Pauli String 2: ['I', 'I', 'Y']\n",
      "  Pauli String 3: ['I', 'Y', 'I']\n",
      "  Pauli String 4: ['Z', 'I', 'I']\n",
      "  Pauli String 5: ['I', 'I', 'I']\n",
      "  Pauli String 6: ['Z', 'I', 'I']\n",
      "\n",
      "\n"
     ]
    }
   ],
   "source": [
    "# 生成多个 generator，并将它们装入字典\n",
    "def generate_special_Hermitian_generators(num_qubit, num_strings, num_generators):\n",
    "    generators_dict = {}\n",
    "\n",
    "    for i in range(num_generators):\n",
    "        generator, pauli_strings = generate_special_generator(num_qubit, num_strings)\n",
    "        generators_dict[f\"Generator_{i}\"] = {\n",
    "            'H': generator,\n",
    "            'Pauli Strings': pauli_strings\n",
    "        }\n",
    "\n",
    "    return generators_dict\n",
    "\n",
    "# 示例：生成 3 个生成元，每个生成元由 6 个 Pauli 字符串组成，且每个 Pauli 字符串长度为 2\n",
    "num_qubit = 3\n",
    "num_strings = 6\n",
    "num_generators = 3\n",
    "\n",
    "generators_dict = generate_special_Hermitian_generators(num_qubit, num_strings, num_generators)\n",
    "\n",
    "# 输出生成的所有生成元及其 Pauli 字符串\n",
    "for gen_key, gen_info in generators_dict.items():\n",
    "    print(f\"{gen_key}:\")\n",
    "    print(f\"  Generator H: \\n {gen_info['H']}\")\n",
    "    for i, string in enumerate(gen_info['Pauli Strings']):\n",
    "        print(f\"  Pauli String {i+1}: {string}\")\n",
    "    print(\"\\n\")"
   ]
  },
  {
   "cell_type": "markdown",
   "metadata": {},
   "source": [
    "#### 方式二：完全随机的 hermitian generators （非等距频率）"
   ]
  },
  {
   "cell_type": "code",
   "execution_count": 7,
   "metadata": {},
   "outputs": [
    {
     "name": "stdout",
     "output_type": "stream",
     "text": [
      "Generator_0:\n",
      "  Generator H: \n",
      " [[1.78834361+0.j        0.31161537+0.0849124j]\n",
      " [0.31161537-0.0849124j 0.13312621+0.j       ]]\n",
      "\n",
      "\n",
      "Generator_1:\n",
      "  Generator H: \n",
      " [[-1.27282587+0.j         -1.4288368 -0.30401841j]\n",
      " [-1.4288368 +0.30401841j -0.46567833+0.j        ]]\n",
      "\n",
      "\n",
      "Generator_2:\n",
      "  Generator H: \n",
      " [[ 0.6823116 +0.j          0.10772621+1.64835438j]\n",
      " [ 0.10772621-1.64835438j -1.66887016+0.j        ]]\n",
      "\n",
      "\n"
     ]
    }
   ],
   "source": [
    "# 定义生成m个完全随机矩阵H的函数\n",
    "def generate_random_Hermitian_generators(num_qubit, num_generators):\n",
    "    generators_dict = {}\n",
    "\n",
    "    for i in range(num_generators):\n",
    "        A = np.random.randn(2**num_qubit, 2**num_qubit) + 1j * np.random.randn(2**num_qubit, 2**num_qubit)\n",
    "        generator = (A + A.conj().T) / 2  # 保证生成矩阵为Hermitian矩阵\n",
    "        \n",
    "        # 将生成的矩阵存入字典\n",
    "        generators_dict[f\"Generator_{i}\"] = {\n",
    "            'H': generator\n",
    "        }\n",
    "\n",
    "    return generators_dict\n",
    "\n",
    "# 示例：生成 3 个随机矩阵，大小为 2 qubits\n",
    "num_qubit = 1\n",
    "num_generators = 3\n",
    "\n",
    "generators_dict = generate_random_Hermitian_generators(num_qubit, num_generators)\n",
    "\n",
    "# 输出生成的所有随机矩阵\n",
    "for gen_key, gen_info in generators_dict.items():\n",
    "    print(f\"{gen_key}:\")\n",
    "    print(f\"  Generator H: \\n {gen_info['H']}\")\n",
    "    print(\"\\n\")\n"
   ]
  },
  {
   "cell_type": "markdown",
   "metadata": {},
   "source": [
    "## 定义目标函数"
   ]
  },
  {
   "cell_type": "code",
   "execution_count": 8,
   "metadata": {},
   "outputs": [
    {
     "name": "stdout",
     "output_type": "stream",
     "text": [
      "Expectation value: -1.6986088674963646\n"
     ]
    }
   ],
   "source": [
    "def expectation_value(initial_state, observable, generators_dict, theta):\n",
    "    # Apply the unitary evolution to the initial state\n",
    "    state = initial_state\n",
    "    \n",
    "    for i, gen_key in enumerate(generators_dict):\n",
    "        # Access the Hamiltonian for the current generator\n",
    "        H_j = generators_dict[gen_key]['H']\n",
    "        \n",
    "        # Compute the unitary U_j(theta_j) = exp(i H_j theta_j)\n",
    "        U_j = expm(1.j * H_j * theta[i])\n",
    "        \n",
    "        # Apply the unitary to the state\n",
    "        state = U_j @ state\n",
    "\n",
    "    # Compute the expectation value <psi|M|psi>\n",
    "    expectation = np.dot(state.conj().T, np.dot(observable, state))\n",
    "    \n",
    "    return np.real(expectation)\n",
    "\n",
    "# 示例：\n",
    "num_qubit = 2\n",
    "initial_state = generate_random_initial_state(num_qubit)\n",
    "observable = generate_random_observable(num_qubit)\n",
    "num_generators = 3\n",
    "generators_dict = generate_random_Hermitian_generators(num_qubit, num_generators)\n",
    "num_strings = 6\n",
    "generators_dict = generate_special_Hermitian_generators(num_qubit, num_strings, num_generators)\n",
    "\n",
    "theta = np.random.rand(num_generators)*2*np.pi\n",
    "\n",
    "# 计算期望值\n",
    "expectation = expectation_value(initial_state, observable, generators_dict, theta)\n",
    "print(\"Expectation value:\", expectation)\n"
   ]
  },
  {
   "cell_type": "markdown",
   "metadata": {},
   "source": [
    "## 算法准备阶段\n"
   ]
  },
  {
   "cell_type": "markdown",
   "metadata": {},
   "source": [
    "### 计算每一个 Hermitian_generators 的 omega_set"
   ]
  },
  {
   "cell_type": "code",
   "execution_count": 9,
   "metadata": {},
   "outputs": [
    {
     "name": "stdout",
     "output_type": "stream",
     "text": [
      "Generator_0:\n",
      "  Omega set: [0.8846105398188187, 2.9760269593247246, 2.9862874879051606, 3.870898027723979, 5.962314447229885, 6.846924987048704]\n",
      "\n",
      "\n",
      "Generator_1:\n",
      "  Omega set: [0.9535374979469218, 2.1285597206981417, 2.8184541675200467, 3.0820972186450635, 3.7719916654669685, 5.900551386165111]\n",
      "\n",
      "\n",
      "Generator_2:\n",
      "  Omega set: [0.8318180361864274, 2.1967927504256464, 2.610065893938869, 3.0286107866120737, 3.4418839301252957, 5.638676680550942]\n",
      "\n",
      "\n"
     ]
    }
   ],
   "source": [
    "def compute_omega_set(H, threshold=1e-4, integer_threshold=1e-7):\n",
    "    # 计算矩阵 H 的特征值\n",
    "    eigenvalues = np.linalg.eigvals(H)\n",
    "    \n",
    "    # 初始化一个集合用于存储所有大于阈值的特征值差异\n",
    "    omega_set = set()\n",
    "    N = len(eigenvalues)\n",
    "    \n",
    "    # 遍历所有特征值对，计算并存储其差异\n",
    "    for i in range(N):\n",
    "        for j in range(i+1, N):\n",
    "            diff = abs(eigenvalues[i] - eigenvalues[j])\n",
    "            if diff > threshold:\n",
    "                omega_set.add(diff)\n",
    "    \n",
    "    # 内部函数：将接近的数值合并\n",
    "    def clean_omega_set(omega_set, threshold, integer_threshold):\n",
    "        # 将 omega_set 排序，方便合并接近的数值\n",
    "        sorted_omega_set = sorted(omega_set)\n",
    "        \n",
    "        # 存储合并后的结果\n",
    "        merged_set = []\n",
    "        \n",
    "        # 遍历每个值，将接近的值归并到一起\n",
    "        for value in sorted_omega_set:\n",
    "            # 如果 merged_set 为空，或者当前值与已添加的值的差距大于阈值，则直接添加\n",
    "            if not merged_set or abs(value - merged_set[-1]) > threshold:\n",
    "                # 如果当前值与某个整数接近，则用整数代替\n",
    "                if np.isclose(value, round(value), atol=integer_threshold):\n",
    "                    value = round(value)  # 替换为最接近的整数\n",
    "                merged_set.append(value)\n",
    "        \n",
    "        return merged_set\n",
    "    \n",
    "    # 调用 clean_omega_set 函数合并接近的差异值，并处理接近整数的情况\n",
    "    omega_set = clean_omega_set(omega_set, threshold, integer_threshold)\n",
    "    \n",
    "    return omega_set\n",
    "\n",
    "\n",
    "def compute_all_omega_set(generators_dict):\n",
    "    # 对字典中每个生成的 H 矩阵应用 compute_omega_set，并将结果添加回字典\n",
    "    for _, gen_info in generators_dict.items():\n",
    "        H = gen_info['H']\n",
    "        omega_set = compute_omega_set(H)  # 计算omega_set\n",
    "        gen_info['omega_set'] = omega_set  # 将 omega_set 添加到字典中\n",
    "        \n",
    "    return generators_dict\n",
    "\n",
    "\n",
    "# 示例：生成 3 个生成元，每个生成元由 6 个 Pauli 字符串组成，且每个 Pauli 字符串长度为 2\n",
    "num_qubit = 2\n",
    "num_strings = 3\n",
    "num_generators = 3\n",
    "\n",
    "generators_dict = generate_special_Hermitian_generators(num_qubit, num_strings, num_generators)\n",
    "generators_dict = generate_random_Hermitian_generators(num_qubit, num_generators)\n",
    "generators_dict = compute_all_omega_set(generators_dict)\n",
    "\n",
    "# 打印结果\n",
    "for gen_key, gen_info in generators_dict.items():\n",
    "    print(f\"{gen_key}:\")\n",
    "    # print(f\"  Generator H: \\n {gen_info['H']}\")\n",
    "    print(f\"  Omega set: {gen_info['omega_set']}\")\n",
    "    # for i, string in enumerate(gen_info['Pauli Strings']):\n",
    "    #     print(f\"  Pauli String {i+1}: {string}\")\n",
    "    print(\"\\n\")\n"
   ]
  },
  {
   "cell_type": "markdown",
   "metadata": {},
   "source": [
    "### 计算每一个 Hermitian_generators 的最优插值点和插值矩阵的逆"
   ]
  },
  {
   "cell_type": "code",
   "execution_count": 32,
   "metadata": {},
   "outputs": [
    {
     "name": "stdout",
     "output_type": "stream",
     "text": [
      "Generator_0:\n",
      "Minimal MSE value: 1.9999986666675567\n",
      "Optimized interpolation points: [0.4871807056692038, 1.5343782759487015, 2.5815758181559185]\n",
      "Inverse of interpolation matrix: \n",
      "[[ 0.47140453  0.47140453  0.47140451]\n",
      " [ 0.37446432 -0.66489908  0.29043476]\n",
      " [ 0.55156225  0.0485145  -0.60007675]]\n",
      "--------------------------------------------------\n"
     ]
    }
   ],
   "source": [
    "# 插值矩阵生成函数\n",
    "def interp_matrix(interp_points, Omegas):\n",
    "    r = len(Omegas)\n",
    "    return np.array([[1/np.sqrt(2)] + [func(Omegas[k] * x) for k in range(r) for func in (np.cos, np.sin)] for x in interp_points])\n",
    "\n",
    "# 均方误差函数（MSE）\n",
    "def mse(interp_points, Omegas):\n",
    "    # Create interpolation matrix\n",
    "    A = interp_matrix(interp_points, Omegas)\n",
    "    \n",
    "    # 正则化矩阵\n",
    "    regularized_matrix = A.T @ A + 1e-6 * np.eye(A.shape[1])  # 加一个小正则项，避免奇异矩阵\n",
    "    \n",
    "    # 返回矩阵的逆的迹（trace）\n",
    "    return np.trace(np.linalg.inv(regularized_matrix))\n",
    "\n",
    "# 定义优化函数\n",
    "def optimal_interp_points(Omegas): \n",
    "    r = len(Omegas)\n",
    "\n",
    "    # 定义插值点的边界\n",
    "    # bounds = [(-1e6, 1e6) for _ in range(2 * r + 1)]  # 这是一个宽松的边界范围\n",
    "    bounds = [(0, 2*np.pi) for _ in range(2 * r + 1)]\n",
    "\n",
    "    # 使用差分进化进行优化\n",
    "    result_mse = differential_evolution(mse, bounds, args=(Omegas,), strategy='best1bin', maxiter=1000)\n",
    "\n",
    "    opt_mse = result_mse.fun\n",
    "\n",
    "    # 获取优化后的插值点\n",
    "    opt_interp_points = sorted(result_mse.x)\n",
    "\n",
    "    # 返回优化后的插值点和对应的插值矩阵的逆\n",
    "    return opt_mse, opt_interp_points, np.linalg.inv(interp_matrix(opt_interp_points, Omegas))\n",
    "\n",
    "def get_all_optimal_interp_points(generators_dict):\n",
    "    \"\"\"\n",
    "    对字典中的每个 omega_set 应用 optimal_interp_points，并将结果加入字典\n",
    "    :param generators_dict: 存储 H_final 和 omega_set 的字典\n",
    "    :return: 更新后的字典，包含优化结果\n",
    "    \"\"\"\n",
    "    # 遍历字典中的每个项\n",
    "    for key, value in generators_dict.items():\n",
    "        # 获取当前的 omega_set\n",
    "        omega_set = value[\"omega_set\"]\n",
    "        \n",
    "        # 调用 optimal_interp_points 函数进行优化\n",
    "        opt_mse, opt_interp_points, inverse_interp_matrix = optimal_interp_points(omega_set)\n",
    "        \n",
    "        # 将优化结果存储到字典中\n",
    "        generators_dict[key][\"opt_mse\"] = opt_mse\n",
    "        generators_dict[key][\"opt_interp_points\"] = opt_interp_points\n",
    "        generators_dict[key][\"inverse_interp_matrix\"] = inverse_interp_matrix\n",
    "    \n",
    "    return generators_dict\n",
    "\n",
    "# \n",
    "# 示例：应用优化函数\n",
    "num_qubit = 3\n",
    "num_strings = 1\n",
    "num_generators = 1\n",
    "\n",
    "generators_dict = generate_special_Hermitian_generators(num_qubit, num_strings, num_generators)\n",
    "# generators_dict = generate_random_Hermitian_generators(num_qubit, num_generators)\n",
    "generators_dict = compute_all_omega_set(generators_dict)\n",
    "\n",
    "generators_dict = get_all_optimal_interp_points(generators_dict)\n",
    "\n",
    "# 打印结果\n",
    "for key, value in generators_dict.items():\n",
    "    print(f\"{key}:\")\n",
    "    print(f\"Minimal MSE value: {value['opt_mse']}\")\n",
    "    print(f\"Optimized interpolation points: {value['opt_interp_points']}\")\n",
    "    print(f\"Inverse of interpolation matrix: \\n{value['inverse_interp_matrix']}\")\n",
    "    print(\"-\" * 50)\n"
   ]
  },
  {
   "cell_type": "code",
   "execution_count": 11,
   "metadata": {},
   "outputs": [
    {
     "data": {
      "text/plain": [
       "{'Generator_0': {'H': array([[0.+0.j, 0.+0.j, 0.+0.j, 0.-1.j],\n",
       "         [0.+0.j, 0.+0.j, 0.+1.j, 0.+0.j],\n",
       "         [0.+0.j, 0.-1.j, 0.+0.j, 0.+0.j],\n",
       "         [0.+1.j, 0.+0.j, 0.+0.j, 0.+0.j]]),\n",
       "  'Pauli Strings': [['X', 'Y'], ['X', 'I'], ['X', 'I']],\n",
       "  'omega_set': [2],\n",
       "  'opt_mse': 1.9999986666687106,\n",
       "  'opt_interp_points': [0.6395971912753474,\n",
       "   4.82838685873581,\n",
       "   5.875585007807714],\n",
       "  'inverse_interp_matrix': array([[ 0.4714042 ,  0.47140455,  0.47140481],\n",
       "         [ 0.19165831, -0.64880612,  0.4571478 ],\n",
       "         [ 0.63852317, -0.15328091, -0.48524226]])},\n",
       " 'Generator_1': {'H': array([[-1.+0.j, -1.+0.j, -1.+0.j,  0.+0.j],\n",
       "         [-1.+0.j, -1.+0.j,  0.+0.j, -1.+0.j],\n",
       "         [-1.+0.j,  0.+0.j, -1.+0.j, -1.+0.j],\n",
       "         [ 0.+0.j, -1.+0.j, -1.+0.j, -1.+0.j]]),\n",
       "  'Pauli Strings': [['I', 'I'], ['I', 'X'], ['X', 'I']],\n",
       "  'omega_set': [2, 4],\n",
       "  'opt_mse': 1.9999992000003244,\n",
       "  'opt_interp_points': [1.7523747827451628,\n",
       "   2.3806933410893194,\n",
       "   3.637330388238513,\n",
       "   4.265648922403471,\n",
       "   6.150604503672032],\n",
       "  'inverse_interp_matrix': array([[ 0.28284272,  0.28284272,  0.28284273,  0.2828427 ,  0.2828427 ],\n",
       "         [-0.37391202,  0.01959121,  0.21898229, -0.25068156,  0.38602007],\n",
       "         [-0.14209083, -0.39951994,  0.33473385,  0.311703  , -0.10482608],\n",
       "         [ 0.29905099, -0.39808092, -0.16023377, -0.08579377,  0.34505746],\n",
       "         [ 0.26564732, -0.03913542,  0.36650394, -0.39069097, -0.20232487]])},\n",
       " 'Generator_2': {'H': array([[-1.+0.j,  0.+0.j,  0.+0.j,  0.+0.j],\n",
       "         [ 0.+0.j, -1.+0.j,  0.+0.j,  0.+0.j],\n",
       "         [ 0.+0.j,  0.+0.j,  1.+0.j,  0.+0.j],\n",
       "         [ 0.+0.j,  0.+0.j,  0.+0.j, -3.+0.j]]),\n",
       "  'Pauli Strings': [['I', 'I'], ['I', 'Z'], ['Z', 'Z']],\n",
       "  'omega_set': [2, 4],\n",
       "  'opt_mse': 1.9999992000003202,\n",
       "  'opt_interp_points': [2.8002541631206443,\n",
       "   3.4285726920929216,\n",
       "   4.056891227935977,\n",
       "   4.685209761988848,\n",
       "   5.313528285667736],\n",
       "  'inverse_interp_matrix': array([[ 0.28284271,  0.28284271,  0.28284272,  0.28284271,  0.28284271],\n",
       "         [ 0.31035466,  0.33590296, -0.10275523, -0.39940918, -0.14409322],\n",
       "         [-0.25234893,  0.21718472,  0.38657647,  0.02173267, -0.37314493],\n",
       "         [ 0.0816001 ,  0.16415398, -0.34720682,  0.39763846, -0.29618572],\n",
       "         [-0.39158834,  0.36476495, -0.19861375, -0.04340115,  0.26883828]])}}"
      ]
     },
     "execution_count": 11,
     "metadata": {},
     "output_type": "execute_result"
    }
   ],
   "source": [
    "generators_dict"
   ]
  },
  {
   "cell_type": "markdown",
   "metadata": {},
   "source": [
    "## 算法本体"
   ]
  },
  {
   "cell_type": "code",
   "execution_count": 25,
   "metadata": {},
   "outputs": [],
   "source": [
    "\n",
    "'''\n",
    "The oicd algorithm is as follows:\n",
    "'''\n",
    "\n",
    "def construct_Es_inv(s, Omegas):\n",
    "    \"\"\"\n",
    "    构造块对角矩阵 E_s^{-1}，每个块为 B_i^T，其中 B_i 为旋转矩阵。\n",
    "    \n",
    "    参数:\n",
    "    s -- 标量，旋转角度的尺度。\n",
    "    Omegas -- 列表，包含 Omega_i 的值。\n",
    "    \n",
    "    返回:\n",
    "    E_s_inv -- 构造的块对角矩阵 E_s^{-1}。\n",
    "    \"\"\"\n",
    "    # 计算旋转矩阵 B_i^T\n",
    "    num_blocks = len(Omegas) + 1  # 第一块是 1x1 矩阵 [1]，之后每个块为 2x2 矩阵\n",
    "    total_size = num_blocks * 2 - 1  # 计算总大小\n",
    "    \n",
    "    # 初始化一个全零矩阵，大小为 total_size x total_size\n",
    "    E_s_inv = np.zeros((total_size, total_size))\n",
    "    \n",
    "    # 设置第一块 1x1 矩阵\n",
    "    E_s_inv[0, 0] = 1\n",
    "    \n",
    "    # 填充后续的旋转矩阵块 B_i^T\n",
    "    for i, Omega_i in enumerate(Omegas):\n",
    "        # 构造每个 B_i\n",
    "        B_i = np.array([[np.cos(Omega_i * s), np.sin(Omega_i * s)],\n",
    "                        [-np.sin(Omega_i * s), np.cos(Omega_i * s)]])\n",
    "        # 将 B_i^T 填入矩阵 E_s_inv\n",
    "        E_s_inv[2*i+1:2*i+3, 2*i+1:2*i+3] = B_i.T\n",
    "    \n",
    "    return E_s_inv\n",
    "\n",
    "\n",
    "def oicd(f, generators_dict, initial_point, num_iterations, sigma,\n",
    "                             opt_goal='min', \n",
    "                             cyclic_mode=True, \n",
    "                             subproblem_iter=20,\n",
    "                             ):\n",
    "    \n",
    "    theta = initial_point\n",
    "    best_point = theta\n",
    "    best_value = f(theta)\n",
    "    function_values = [best_value]\n",
    "    hat_f_value = best_value\n",
    "    hat_function_values = [best_value]\n",
    "\n",
    "    print(\"-\"*100)\n",
    "    \n",
    "    t = trange(num_iterations, desc=\"Bar desc\", leave=True)\n",
    "    m = len(theta)\n",
    "    for i in t:\n",
    "        if cyclic_mode:\n",
    "            j = i % m\n",
    "        else:\n",
    "            j = np.random.choice(range(m))\n",
    "\n",
    "        theta_old = theta.copy()\n",
    "\n",
    "        interp_points = generators_dict[f'Generator_{j}'][\"opt_interp_points\"]\n",
    "        inv_A = generators_dict[f'Generator_{j}']['inverse_interp_matrix']\n",
    "        Omegas = generators_dict[f'Generator_{j}']['omega_set']\n",
    "\n",
    "        shift = theta[j] - interp_points[0]\n",
    "        interp_points += shift\n",
    "        E_s_inv = construct_Es_inv(shift, Omegas)\n",
    "        \n",
    "        fun_vals = [hat_f_value]\n",
    "        for point in interp_points[1:]:\n",
    "            theta_old[j] = point\n",
    "            fun_val = f(theta_old) + np.random.randn() * sigma\n",
    "            fun_vals.append(fun_val)\n",
    "        fun_vals = np.array(fun_vals)\n",
    "\n",
    "        hat_z = E_s_inv @ (inv_A @ fun_vals)\n",
    "\n",
    "        # 定义 f(x) 的计算，包括 t(x) 的计算\n",
    "        def hat_f(x): # appr_single_var_fun\n",
    "            # 计算 t_x 时，直接将 1 / np.sqrt(2) 加到每个值中\n",
    "            r= len(Omegas)\n",
    "            t_x = np.array([1 / np.sqrt(2)] + [func(Omegas[k] * x).item() for k in range(r) for func in (np.cos, np.sin)])\n",
    "            return np.dot(t_x, hat_z)\n",
    "\n",
    "        # 使用 scipy.optimize.minimize 最小化目标函数\n",
    "        initial_guess = theta[j]  # 初始值一定要选择当前值\n",
    "\n",
    "        # 设置最大迭代步数\n",
    "        options = {'maxiter': subproblem_iter, 'disp': False}\n",
    "\n",
    "        if opt_goal == 'max':\n",
    "            hat_f = lambda x: -hat_f(x)\n",
    "\n",
    "        # 运行优化算法求解子问题\n",
    "        result = minimize(hat_f, initial_guess, options=options)\n",
    "\n",
    "        # 获取最优解和最小值\n",
    "        theta_star = result.x  # 最优解\n",
    "        hat_f_value = result.fun  # 最小值\n",
    "\n",
    "        # 如果是最大化问题，取负值\n",
    "        if opt_goal == 'max':\n",
    "            hat_f_value = -hat_f_value\n",
    "\n",
    "        theta[j] = theta_star\n",
    "        next_point = theta\n",
    "        next_value = f(next_point)\n",
    "        function_values.append(next_value)\n",
    "        hat_function_values.append(hat_f_value)\n",
    "\n",
    "        if opt_goal == 'min': \n",
    "            if next_value < best_value:\n",
    "                best_point = next_point\n",
    "                best_value = next_value\n",
    "        if opt_goal == 'max': \n",
    "            if next_value > best_value:\n",
    "                best_point = next_point\n",
    "                best_value = next_value\n",
    "\n",
    "        message = f\"Iteration: {i}, Value: {next_value}, Coord j: {j}({m})\"\n",
    "        t.set_description(f\"[OICD] Processing %s\" % message)\n",
    "        t.refresh()\n",
    "\n",
    "    print(f\"[OICD] Final value of f:\", next_value)\n",
    "\n",
    "    return best_point, function_values, hat_function_values\n",
    "\n"
   ]
  },
  {
   "cell_type": "markdown",
   "metadata": {},
   "source": [
    "## 测试算法"
   ]
  },
  {
   "cell_type": "code",
   "execution_count": 26,
   "metadata": {},
   "outputs": [],
   "source": [
    "# 示例：\n",
    "num_qubit = 5\n",
    "num_generators = 10\n",
    "num_strings = 4\n",
    "\n",
    "initial_state = generate_random_initial_state(num_qubit)\n",
    "observable = generate_random_observable(num_qubit)\n",
    "\n",
    "generators_dict = generate_special_Hermitian_generators(num_qubit, num_strings, num_generators)\n",
    "# generators_dict = generate_random_Hermitian_generators(num_qubit, num_generators)\n",
    "\n",
    "generators_dict = compute_all_omega_set(generators_dict)\n",
    "generators_dict = get_all_optimal_interp_points(generators_dict)\n",
    "\n",
    "f = lambda theta: expectation_value(initial_state, observable, generators_dict, theta)\n"
   ]
  },
  {
   "cell_type": "code",
   "execution_count": 27,
   "metadata": {},
   "outputs": [
    {
     "name": "stdout",
     "output_type": "stream",
     "text": [
      "----------------------------------------------------------------------------------------------------\n"
     ]
    },
    {
     "name": "stderr",
     "output_type": "stream",
     "text": [
      "Bar desc:   0%|          | 0/200 [00:00<?, ?it/s]"
     ]
    },
    {
     "name": "stderr",
     "output_type": "stream",
     "text": [
      "[OICD] Processing Iteration: 199, Value: -5.331129024135344, Coord j: 9(10): 100%|██████████| 200/200 [00:10<00:00, 18.37it/s] \n"
     ]
    },
    {
     "name": "stdout",
     "output_type": "stream",
     "text": [
      "[OICD] Final value of f: -5.331129024135344\n"
     ]
    },
    {
     "data": {
      "image/png": "[encoded data removed]",
      "text/plain": [
       "<Figure size 640x480 with 1 Axes>"
      ]
     },
     "metadata": {},
     "output_type": "display_data"
    }
   ],
   "source": [
    "\n",
    "initial_theta  = np.random.rand(num_generators)*2*np.pi\n",
    "\n",
    "num_iterations=200\n",
    "sigma = 0.1\n",
    "\n",
    "best_point, function_values, hat_function_values = oicd(f, generators_dict, initial_theta, num_iterations, sigma,\n",
    "                             opt_goal='min', \n",
    "                             cyclic_mode=False, \n",
    "                             subproblem_iter=100,\n",
    "                             )\n",
    "\n",
    "import matplotlib.pyplot as plt\n",
    "\n",
    "# Assuming function_values and hat_function_values are lists or arrays of objective function values\n",
    "plt.plot(function_values, label='Function Values', color='b')\n",
    "# plt.plot(hat_function_values, label='Hat Function Values', color='r', linestyle='--')\n",
    "\n",
    "# Adding labels and title\n",
    "plt.xlabel('Iteration')\n",
    "plt.ylabel('Function Value')\n",
    "plt.title('Convergence of the Objective and Hat Function')\n",
    "\n",
    "# Adding a legend to differentiate the two curves\n",
    "plt.legend()\n",
    "\n",
    "# Show grid for easier visualization\n",
    "plt.grid(True)\n",
    "\n",
    "# Show the plot\n",
    "plt.show()\n"
   ]
  },
  {
   "cell_type": "code",
   "execution_count": 55,
   "metadata": {},
   "outputs": [
    {
     "ename": "NameError",
     "evalue": "name 'dim' is not defined",
     "output_type": "error",
     "traceback": [
      "\u001b[1;31m---------------------------------------------------------------------------\u001b[0m",
      "\u001b[1;31mNameError\u001b[0m                                 Traceback (most recent call last)",
      "Cell \u001b[1;32mIn[55], line 13\u001b[0m\n\u001b[0;32m      9\u001b[0m omega_set \u001b[38;5;241m=\u001b[39m [\u001b[38;5;241m2\u001b[39m]\n\u001b[0;32m     11\u001b[0m generators_dict \u001b[38;5;241m=\u001b[39m {}\n\u001b[1;32m---> 13\u001b[0m \u001b[38;5;28;01mfor\u001b[39;00m i \u001b[38;5;129;01min\u001b[39;00m \u001b[38;5;28mrange\u001b[39m(\u001b[43mdim\u001b[49m):\n\u001b[0;32m     14\u001b[0m     generators_dict[\u001b[38;5;124mf\u001b[39m\u001b[38;5;124m\"\u001b[39m\u001b[38;5;124mGenerator_\u001b[39m\u001b[38;5;132;01m{\u001b[39;00mi\u001b[38;5;132;01m}\u001b[39;00m\u001b[38;5;124m\"\u001b[39m] \u001b[38;5;241m=\u001b[39m {\n\u001b[0;32m     15\u001b[0m         \u001b[38;5;124m'\u001b[39m\u001b[38;5;124mopt_interp_points\u001b[39m\u001b[38;5;124m'\u001b[39m: opt_interp_points,\n\u001b[0;32m     16\u001b[0m         \u001b[38;5;124m'\u001b[39m\u001b[38;5;124momega_set\u001b[39m\u001b[38;5;124m'\u001b[39m: omega_set,\n\u001b[0;32m     17\u001b[0m         \u001b[38;5;124m'\u001b[39m\u001b[38;5;124minverse_interp_matrix\u001b[39m\u001b[38;5;124m'\u001b[39m: inverse_interp_matrix\n\u001b[0;32m     18\u001b[0m     }\n",
      "\u001b[1;31mNameError\u001b[0m: name 'dim' is not defined"
     ]
    }
   ],
   "source": [
    "opt_interp_points = [0, np.pi*2/3, np.pi*4/3]\n",
    "\n",
    "inverse_interp_matrix = np.array([\n",
    "            [np.sqrt(2)/3, np.sqrt(2)/3, np.sqrt(2)/3],\n",
    "            [2/3, -1/3, -1/3],\n",
    "            [0, 1/np.sqrt(3), -1/np.sqrt(3)]\n",
    "            ])\n",
    "\n",
    "omega_set = [2]\n",
    "\n",
    "generators_dict = {}\n",
    "\n",
    "for i in range(dim):\n",
    "    generators_dict[f\"Generator_{i}\"] = {\n",
    "        'opt_interp_points': opt_interp_points,\n",
    "        'omega_set': omega_set,\n",
    "        'inverse_interp_matrix': inverse_interp_matrix\n",
    "    }"
   ]
  }
 ],
 "metadata": {
  "kernelspec": {
   "display_name": "RCD",
   "language": "python",
   "name": "python3"
  },
  "language_info": {
   "codemirror_mode": {
    "name": "ipython",
    "version": 3
   },
   "file_extension": ".py",
   "mimetype": "text/x-python",
   "name": "python",
   "nbconvert_exporter": "python",
   "pygments_lexer": "ipython3",
   "version": "3.10.14"
  }
 },
 "nbformat": 4,
 "nbformat_minor": 2
}
