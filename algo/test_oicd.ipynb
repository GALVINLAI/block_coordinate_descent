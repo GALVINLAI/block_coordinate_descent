{
 "cells": [
  {
   "cell_type": "code",
   "execution_count": 1,
   "metadata": {},
   "outputs": [],
   "source": [
    "import numpy as np\n",
    "from scipy.optimize import differential_evolution\n",
    "\n",
    "import numpy as np\n",
    "from scipy.linalg import expm\n",
    "import matplotlib.pyplot as plt\n",
    "\n",
    "import jax\n",
    "import jax.random as jrd\n",
    "import numpy as np\n",
    "import os\n",
    "import shutil\n",
    "import matplotlib.pyplot as plt\n",
    "from tqdm import trange\n",
    "from scipy.optimize import minimize\n",
    "\n",
    "import numpy as np\n",
    "from scipy.linalg import expm"
   ]
  },
  {
   "cell_type": "markdown",
   "metadata": {},
   "source": [
    "# Generate Objective Function with Random Data"
   ]
  },
  {
   "cell_type": "markdown",
   "metadata": {},
   "source": [
    "## Generate Random Data"
   ]
  },
  {
   "cell_type": "markdown",
   "metadata": {},
   "source": [
    "### Random Initial State"
   ]
  },
  {
   "cell_type": "code",
   "execution_count": 2,
   "metadata": {},
   "outputs": [
    {
     "name": "stdout",
     "output_type": "stream",
     "text": [
      "[ 0.74097869-0.42372669j -0.50712827-0.1192778j ]\n"
     ]
    }
   ],
   "source": [
    "# initial state |0>\n",
    "def generate_random_initial_state(num_qubit):\n",
    "    # Generate a random complex vector of length 2**num_qubit\n",
    "    vector = np.random.randn(2**num_qubit) + 1j * np.random.randn(2**num_qubit)\n",
    "    \n",
    "    # Normalize to unit length\n",
    "    unit_vector = vector / np.linalg.norm(vector)\n",
    "    \n",
    "    return unit_vector\n",
    "\n",
    "# Example\n",
    "num_qubit = 1\n",
    "initial_state = generate_random_initial_state(num_qubit)\n",
    "print(initial_state)"
   ]
  },
  {
   "cell_type": "markdown",
   "metadata": {},
   "source": [
    "### Random Observable"
   ]
  },
  {
   "cell_type": "code",
   "execution_count": 3,
   "metadata": {},
   "outputs": [
    {
     "name": "stdout",
     "output_type": "stream",
     "text": [
      "[[ 0.33761891+0.j         -1.03213941-0.31878683j]\n",
      " [-1.03213941+0.31878683j -0.3299689 +0.j        ]]\n"
     ]
    }
   ],
   "source": [
    "# Function to generate a random Hermitian matrix of a given size\n",
    "def generate_random_observable(num_qubit):\n",
    "    A = np.random.randn(2**num_qubit, 2**num_qubit) \n",
    "    A = A + 1j * np.random.randn(2**num_qubit, 2**num_qubit)  # Random complex matrix\n",
    "    M = (A + A.conj().T) / 2  # Hermitian part (A + A†)/2\n",
    "    return M\n",
    "\n",
    "# Example\n",
    "num_qubit = 1\n",
    "M = generate_random_observable(num_qubit) # Define an example observable matrix (Hermitian)\n",
    "print(M)"
   ]
  },
  {
   "cell_type": "markdown",
   "metadata": {},
   "source": [
    "### Generate Random Hermitian Generators"
   ]
  },
  {
   "cell_type": "markdown",
   "metadata": {},
   "source": [
    "#### Method 1: Generate Specific Hermitian Generators Using Pauli Matrices (Equdistant Frequency)"
   ]
  },
  {
   "cell_type": "code",
   "execution_count": 4,
   "metadata": {},
   "outputs": [
    {
     "name": "stdout",
     "output_type": "stream",
     "text": [
      "Resulting matrix for X ⊗ Z ⊗ I:\n",
      "[[ 0  0  0  0  1  0  0  0]\n",
      " [ 0  0  0  0  0  1  0  0]\n",
      " [ 0  0  0  0  0  0 -1  0]\n",
      " [ 0  0  0  0  0  0  0 -1]\n",
      " [ 1  0  0  0  0  0  0  0]\n",
      " [ 0  1  0  0  0  0  0  0]\n",
      " [ 0  0 -1  0  0  0  0  0]\n",
      " [ 0  0  0 -1  0  0  0  0]]\n"
     ]
    }
   ],
   "source": [
    "# Define Pauli matrices and put them into a dictionary\n",
    "pauli_matrices = {\n",
    "    'X': np.array([[0, 1], [1, 0]]),\n",
    "    'Y': np.array([[0, -1j], [1j, 0]]),\n",
    "    'Z': np.array([[1, 0], [0, -1]]),\n",
    "    'I': np.array([[1, 0], [0, 1]])\n",
    "}\n",
    "\n",
    "# Create a function to compute the tensor product of multiple Pauli matrices\n",
    "def kron_product_from_words(words):\n",
    "    # Get the first Pauli matrix\n",
    "    result = pauli_matrices[words[0]]\n",
    "    \n",
    "    # Perform tensor product operation on the remaining matrices\n",
    "    for word in words[1:]:\n",
    "        result = np.kron(result, pauli_matrices[word])\n",
    "    \n",
    "    return result\n",
    "\n",
    "# Example: Compute X ⊗ Z ⊗ I\n",
    "words = ['X', 'Z', 'I']\n",
    "result_matrix = kron_product_from_words(words)\n",
    "\n",
    "print(\"Resulting matrix for X ⊗ Z ⊗ I:\")\n",
    "print(result_matrix)"
   ]
  },
  {
   "cell_type": "code",
   "execution_count": 5,
   "metadata": {},
   "outputs": [
    {
     "name": "stdout",
     "output_type": "stream",
     "text": [
      "Generator: \n",
      "[[ 1.+0.j -1.+0.j  0.+1.j  0.-1.j]\n",
      " [-1.+0.j  1.+0.j  0.-1.j  0.+1.j]\n",
      " [ 0.-1.j  0.+1.j  1.+0.j -1.+0.j]\n",
      " [ 0.+1.j  0.-1.j -1.+0.j  1.+0.j]]\n",
      "\n",
      "Pauli String 1: ['I', 'X']\n",
      "Pauli String 2: ['Y', 'I']\n",
      "Pauli String 3: ['I', 'I']\n",
      "Pauli String 4: ['Y', 'X']\n",
      "Pauli String 5: ['Y', 'X']\n",
      "Pauli String 6: ['Y', 'X']\n"
     ]
    }
   ],
   "source": [
    "# Define the function to generate special generators\n",
    "def generate_special_generator(num_qubit, num_strings):\n",
    "    # Generate a random words_0\n",
    "    words_0 = [np.random.choice(['X', 'Y', 'Z']) for _ in range(num_qubit)]\n",
    "\n",
    "    # Generate num_strings Pauli strings\n",
    "    words_list = []\n",
    "\n",
    "    for _ in range(num_strings):\n",
    "        # Initialize a list with all 'I'\n",
    "        words = ['I'] * num_qubit\n",
    "\n",
    "        for i in range(num_qubit):\n",
    "            # Randomly choose from ['I'] or words_0[i] at position i\n",
    "            words[i] = np.random.choice(['I', words_0[i]])\n",
    "\n",
    "        words_list.append(words)\n",
    "  \n",
    "    # Initialize the final generator\n",
    "    generator = np.zeros((2**num_qubit, 2**num_qubit), dtype=complex)\n",
    "\n",
    "    # For each word in words_list, compute its tensor product matrix and accumulate\n",
    "    for words in words_list:\n",
    "        sign = np.random.choice([1, -1])  # Generate a random sign (+ or -)\n",
    "        generator += sign * kron_product_from_words(words)  # Add the sign and accumulate\n",
    "\n",
    "    return generator, words_list\n",
    "\n",
    "# Example: Generate 6 Pauli strings with length 2\n",
    "num_qubit = 2\n",
    "num_strings = 6\n",
    "generator, pauli_strings = generate_special_generator(num_qubit, num_strings)\n",
    "\n",
    "# Output the generated Pauli strings and their tensor products\n",
    "print(f\"Generator: \\n{generator}\\n\")\n",
    "for i, string in enumerate(pauli_strings):\n",
    "    print(f\"Pauli String {i+1}: {string}\")"
   ]
  },
  {
   "cell_type": "code",
   "execution_count": 6,
   "metadata": {},
   "outputs": [
    {
     "name": "stdout",
     "output_type": "stream",
     "text": [
      "Generator_0:\n",
      "  Generator H: \n",
      " [[-1.+0.j -1.+0.j  0.+0.j  0.+0.j  0.+0.j  0.+0.j  0.+0.j  0.+0.j]\n",
      " [-1.+0.j -1.+0.j  0.+0.j  0.+0.j  0.+0.j  0.+0.j  0.+0.j  0.+0.j]\n",
      " [ 0.+0.j  0.+0.j  1.+0.j -1.+0.j  0.+0.j  0.+0.j  0.+0.j  0.+0.j]\n",
      " [ 0.+0.j  0.+0.j -1.+0.j  1.+0.j  0.+0.j  0.+0.j  0.+0.j  0.+0.j]\n",
      " [ 0.+0.j  0.+0.j  0.+0.j  0.+0.j  1.+0.j  3.+0.j  0.+0.j  0.+0.j]\n",
      " [ 0.+0.j  0.+0.j  0.+0.j  0.+0.j  3.+0.j  1.+0.j  0.+0.j  0.+0.j]\n",
      " [ 0.+0.j  0.+0.j  0.+0.j  0.+0.j  0.+0.j  0.+0.j  3.+0.j  3.+0.j]\n",
      " [ 0.+0.j  0.+0.j  0.+0.j  0.+0.j  0.+0.j  0.+0.j  3.+0.j  3.+0.j]]\n",
      "  Pauli String 1: ['I', 'I', 'X']\n",
      "  Pauli String 2: ['Z', 'I', 'X']\n",
      "  Pauli String 3: ['I', 'Z', 'I']\n",
      "  Pauli String 4: ['Z', 'I', 'X']\n",
      "  Pauli String 5: ['Z', 'I', 'I']\n",
      "  Pauli String 6: ['I', 'I', 'I']\n",
      "\n",
      "\n",
      "Generator_1:\n",
      "  Generator H: \n",
      " [[ 1.+0.j  0.+0.j  1.+0.j  0.+0.j  0.+0.j  0.+0.j -2.+0.j  0.+0.j]\n",
      " [ 0.+0.j  1.+0.j  0.+0.j  3.+0.j  0.+0.j  0.+0.j  0.+0.j -2.+0.j]\n",
      " [ 1.+0.j  0.+0.j  1.+0.j  0.+0.j -2.+0.j  0.+0.j  0.+0.j  0.+0.j]\n",
      " [ 0.+0.j  3.+0.j  0.+0.j  1.+0.j  0.+0.j -2.+0.j  0.+0.j  0.+0.j]\n",
      " [ 0.+0.j  0.+0.j -2.+0.j  0.+0.j  1.+0.j  0.+0.j  1.+0.j  0.+0.j]\n",
      " [ 0.+0.j  0.+0.j  0.+0.j -2.+0.j  0.+0.j  1.+0.j  0.+0.j  3.+0.j]\n",
      " [-2.+0.j  0.+0.j  0.+0.j  0.+0.j  1.+0.j  0.+0.j  1.+0.j  0.+0.j]\n",
      " [ 0.+0.j -2.+0.j  0.+0.j  0.+0.j  0.+0.j  3.+0.j  0.+0.j  1.+0.j]]\n",
      "  Pauli String 1: ['I', 'X', 'I']\n",
      "  Pauli String 2: ['I', 'I', 'I']\n",
      "  Pauli String 3: ['I', 'X', 'Z']\n",
      "  Pauli String 4: ['X', 'X', 'I']\n",
      "  Pauli String 5: ['X', 'X', 'I']\n",
      "  Pauli String 6: ['I', 'X', 'I']\n",
      "\n",
      "\n",
      "Generator_2:\n",
      "  Generator H: \n",
      " [[ 1.+0.j -1.+0.j  0.+0.j  0.+0.j  0.+0.j  0.+0.j  2.+0.j  0.+0.j]\n",
      " [-1.+0.j  1.+0.j  0.+0.j  0.+0.j  0.+0.j  0.+0.j  0.+0.j  2.+0.j]\n",
      " [ 0.+0.j  0.+0.j  1.+0.j -1.+0.j -2.+0.j  0.+0.j  0.+0.j  0.+0.j]\n",
      " [ 0.+0.j  0.+0.j -1.+0.j  1.+0.j  0.+0.j -2.+0.j  0.+0.j  0.+0.j]\n",
      " [ 0.+0.j  0.+0.j -2.+0.j  0.+0.j  1.+0.j -1.+0.j  0.+0.j  0.+0.j]\n",
      " [ 0.+0.j  0.+0.j  0.+0.j -2.+0.j -1.+0.j  1.+0.j  0.+0.j  0.+0.j]\n",
      " [ 2.+0.j  0.+0.j  0.+0.j  0.+0.j  0.+0.j  0.+0.j  1.+0.j -1.+0.j]\n",
      " [ 0.+0.j  2.+0.j  0.+0.j  0.+0.j  0.+0.j  0.+0.j -1.+0.j  1.+0.j]]\n",
      "  Pauli String 1: ['Y', 'I', 'X']\n",
      "  Pauli String 2: ['I', 'I', 'X']\n",
      "  Pauli String 3: ['I', 'I', 'I']\n",
      "  Pauli String 4: ['Y', 'I', 'X']\n",
      "  Pauli String 5: ['Y', 'Y', 'I']\n",
      "  Pauli String 6: ['Y', 'Y', 'I']\n",
      "\n",
      "\n"
     ]
    }
   ],
   "source": [
    "# Generate multiple generators and store them in a dictionary\n",
    "def generate_special_Hermitian_generators(num_qubit, num_strings, num_generators):\n",
    "    generators_dict = {}\n",
    "\n",
    "    for i in range(num_generators):\n",
    "        generator, pauli_strings = generate_special_generator(num_qubit, num_strings)\n",
    "        generators_dict[f\"Generator_{i}\"] = {\n",
    "            'H': generator,\n",
    "            'Pauli Strings': pauli_strings\n",
    "        }\n",
    "\n",
    "    return generators_dict\n",
    "\n",
    "# Example: Generate 3 generators, each consisting of 6 Pauli strings, with each Pauli string of length 2\n",
    "num_qubit = 3\n",
    "num_strings = 6\n",
    "num_generators = 3\n",
    "\n",
    "generators_dict = generate_special_Hermitian_generators(num_qubit, num_strings, num_generators)\n",
    "\n",
    "# Output all generated generators and their Pauli strings\n",
    "for gen_key, gen_info in generators_dict.items():\n",
    "    print(f\"{gen_key}:\")\n",
    "    print(f\"  Generator H: \\n {gen_info['H']}\")\n",
    "    for i, string in enumerate(gen_info['Pauli Strings']):\n",
    "        print(f\"  Pauli String {i+1}: {string}\")\n",
    "    print(\"\\n\")"
   ]
  },
  {
   "cell_type": "markdown",
   "metadata": {},
   "source": [
    "#### Method 2: Completely Random Hermitian Generators (Non-Equadistant Frequency)"
   ]
  },
  {
   "cell_type": "code",
   "execution_count": 7,
   "metadata": {},
   "outputs": [
    {
     "name": "stdout",
     "output_type": "stream",
     "text": [
      "Generator_0:\n",
      "  Generator H: \n",
      " [[ 0.20373273+0.j          0.18532113-0.78097685j]\n",
      " [ 0.18532113+0.78097685j -0.46785278+0.j        ]]\n",
      "\n",
      "\n",
      "Generator_1:\n",
      "  Generator H: \n",
      " [[1.23888215+0.j         1.69659379-0.02614667j]\n",
      " [1.69659379+0.02614667j 0.79979219+0.j        ]]\n",
      "\n",
      "\n",
      "Generator_2:\n",
      "  Generator H: \n",
      " [[-1.20630569+0.j         -0.78944303-0.21502369j]\n",
      " [-0.78944303+0.21502369j  0.62922999+0.j        ]]\n",
      "\n",
      "\n"
     ]
    }
   ],
   "source": [
    "# Define the function to generate m completely random Hermitian matrices H\n",
    "def generate_random_Hermitian_generators(num_qubit, num_generators):\n",
    "    generators_dict = {}\n",
    "\n",
    "    for i in range(num_generators):\n",
    "        A = np.random.randn(2**num_qubit, 2**num_qubit) + 1j * np.random.randn(2**num_qubit, 2**num_qubit)\n",
    "        generator = (A + A.conj().T) / 2  # Ensure the generated matrix is Hermitian\n",
    "        \n",
    "        # Store the generated matrix in the dictionary\n",
    "        generators_dict[f\"Generator_{i}\"] = {\n",
    "            'H': generator\n",
    "        }\n",
    "\n",
    "    return generators_dict\n",
    "\n",
    "# Example: Generate 3 random matrices of size 2 qubits\n",
    "num_qubit = 1\n",
    "num_generators = 3\n",
    "\n",
    "generators_dict = generate_random_Hermitian_generators(num_qubit, num_generators)\n",
    "\n",
    "# Output all generated random matrices\n",
    "for gen_key, gen_info in generators_dict.items():\n",
    "    print(f\"{gen_key}:\")\n",
    "    print(f\"  Generator H: \\n {gen_info['H']}\")\n",
    "    print(\"\\n\")"
   ]
  },
  {
   "cell_type": "markdown",
   "metadata": {},
   "source": [
    "## Define the Objective Function"
   ]
  },
  {
   "cell_type": "code",
   "execution_count": 8,
   "metadata": {},
   "outputs": [
    {
     "name": "stdout",
     "output_type": "stream",
     "text": [
      "Expectation value: -0.18476326215583475\n"
     ]
    }
   ],
   "source": [
    "def expectation_value(initial_state, observable, generators_dict, theta):\n",
    "    # Apply the unitary evolution to the initial state\n",
    "    state = initial_state\n",
    "    \n",
    "    for i, gen_key in enumerate(generators_dict):\n",
    "        # Access the Hamiltonian for the current generator\n",
    "        H_j = generators_dict[gen_key]['H']\n",
    "        \n",
    "        # Compute the unitary U_j(theta_j) = exp(i H_j theta_j)\n",
    "        U_j = expm(1.j * H_j * theta[i])\n",
    "        \n",
    "        # Apply the unitary to the state\n",
    "        state = U_j @ state\n",
    "\n",
    "    # Compute the expectation value <psi|M|psi>\n",
    "    expectation = np.dot(state.conj().T, np.dot(observable, state))\n",
    "    \n",
    "    return np.real(expectation)\n",
    "\n",
    "# Example：\n",
    "num_qubit = 2\n",
    "initial_state = generate_random_initial_state(num_qubit)\n",
    "observable = generate_random_observable(num_qubit)\n",
    "num_generators = 3\n",
    "generators_dict = generate_random_Hermitian_generators(num_qubit, num_generators)\n",
    "num_strings = 6\n",
    "generators_dict = generate_special_Hermitian_generators(num_qubit, num_strings, num_generators)\n",
    "\n",
    "theta = np.random.rand(num_generators)*2*np.pi\n",
    "\n",
    "expectation = expectation_value(initial_state, observable, generators_dict, theta)\n",
    "print(\"Expectation value:\", expectation)\n"
   ]
  },
  {
   "cell_type": "markdown",
   "metadata": {},
   "source": [
    "## Algorithm Preparation Phase\n"
   ]
  },
  {
   "cell_type": "markdown",
   "metadata": {},
   "source": [
    "### Calculate omega_set for Each Hermitian Generator"
   ]
  },
  {
   "cell_type": "code",
   "execution_count": 9,
   "metadata": {},
   "outputs": [
    {
     "name": "stdout",
     "output_type": "stream",
     "text": [
      "Generator_0:\n",
      "  Omega set: [0.8073089670272522, 0.9225504215007079, 1.8782707818061088, 2.6855797488333613, 2.8008212033068167, 3.6081301703340687]\n",
      "\n",
      "\n",
      "Generator_1:\n",
      "  Omega set: [1.2082107039414458, 1.7304876221081988, 1.8819570262479406, 2.9386983260496446, 3.0901677301893864, 4.820655352297585]\n",
      "\n",
      "\n",
      "Generator_2:\n",
      "  Omega set: [1.0908791230686594, 1.144760268554112, 2.2356393916227715, 2.490335880886626, 3.5812150039552852, 4.725975272509397]\n",
      "\n",
      "\n"
     ]
    }
   ],
   "source": [
    "def compute_omega_set(H, threshold=1e-4, integer_threshold=1e-7):\n",
    "    # Compute the eigenvalues of matrix H\n",
    "    eigenvalues = np.linalg.eigvals(H)\n",
    "    \n",
    "    # Initialize a set to store all differences of eigenvalues greater than the threshold\n",
    "    omega_set = set()\n",
    "    N = len(eigenvalues)\n",
    "    \n",
    "    # Traverse all pairs of eigenvalues and compute and store their differences\n",
    "    for i in range(N):\n",
    "        for j in range(i+1, N):\n",
    "            diff = abs(eigenvalues[i] - eigenvalues[j])\n",
    "            if diff > threshold:\n",
    "                omega_set.add(diff)\n",
    "    \n",
    "    # Inner function: Merge close values\n",
    "    def clean_omega_set(omega_set, threshold, integer_threshold):\n",
    "        # Sort omega_set for easier merging of close values\n",
    "        sorted_omega_set = sorted(omega_set)\n",
    "        \n",
    "        # Store the merged results\n",
    "        merged_set = []\n",
    "        \n",
    "        # Traverse each value and merge close values\n",
    "        for value in sorted_omega_set:\n",
    "            # If merged_set is empty or the difference between the current value and the last added value is greater than the threshold, add directly\n",
    "            if not merged_set or abs(value - merged_set[-1]) > threshold:\n",
    "                # If the current value is close to an integer, replace it with the nearest integer\n",
    "                if np.isclose(value, round(value), atol=integer_threshold):\n",
    "                    value = round(value)  # Replace with the nearest integer\n",
    "                merged_set.append(value)\n",
    "        \n",
    "        return merged_set\n",
    "    \n",
    "    # Call the clean_omega_set function to merge close differences and handle close-to-integer cases\n",
    "    omega_set = clean_omega_set(omega_set, threshold, integer_threshold)\n",
    "    \n",
    "    return omega_set\n",
    "\n",
    "def compute_all_omega_set(generators_dict):\n",
    "    # Apply compute_omega_set to each H matrix in the dictionary and add the result back to the dictionary\n",
    "    for _, gen_info in generators_dict.items():\n",
    "        H = gen_info['H']\n",
    "        omega_set = compute_omega_set(H)  # Compute omega_set\n",
    "        gen_info['omega_set'] = omega_set  # Add omega_set to the dictionary\n",
    "        \n",
    "    return generators_dict\n",
    "\n",
    "\n",
    "# Example: Generate 3 generators, each consisting of 6 Pauli strings, with each Pauli string of length 2\n",
    "num_qubit = 2\n",
    "num_strings = 3\n",
    "num_generators = 3\n",
    "\n",
    "generators_dict = generate_special_Hermitian_generators(num_qubit, num_strings, num_generators)\n",
    "generators_dict = generate_random_Hermitian_generators(num_qubit, num_generators)\n",
    "generators_dict = compute_all_omega_set(generators_dict)\n",
    "\n",
    "# Print the results\n",
    "for gen_key, gen_info in generators_dict.items():\n",
    "    print(f\"{gen_key}:\")\n",
    "    # print(f\"  Generator H: \\n {gen_info['H']}\")\n",
    "    print(f\"  Omega set: {gen_info['omega_set']}\")\n",
    "    # for i, string in enumerate(gen_info['Pauli Strings']):\n",
    "    #     print(f\"  Pauli String {i+1}: {string}\")\n",
    "    print(\"\\n\")\n"
   ]
  },
  {
   "cell_type": "markdown",
   "metadata": {},
   "source": [
    "### Calculate the Optimal Interpolation Points and Inverse of Interpolation Matrices for Each Hermitian Generator"
   ]
  },
  {
   "cell_type": "code",
   "execution_count": 10,
   "metadata": {},
   "outputs": [],
   "source": [
    "# Interpolation matrix generation function\n",
    "def interp_matrix(interp_points, Omegas):\n",
    "    r = len(Omegas)\n",
    "    return np.array([[1/np.sqrt(2)] + [func(Omegas[k] * x) for k in range(r) for func in (np.cos, np.sin)] for x in interp_points])\n",
    "\n",
    "# Mean Squared Error (MSE) function\n",
    "def mse(interp_points, Omegas):\n",
    "    # Create interpolation matrix\n",
    "    A = interp_matrix(interp_points, Omegas)\n",
    "    \n",
    "    # Regularize the matrix\n",
    "    regularized_matrix = A.T @ A + 1e-6 * np.eye(A.shape[1])  # Add a small regularization term to avoid singular matrix\n",
    "    \n",
    "    # Return the trace of the inverse of the matrix\n",
    "    return np.trace(np.linalg.inv(regularized_matrix))\n",
    "\n",
    "# Define the optimization function\n",
    "def optimal_interp_points(Omegas): \n",
    "    r = len(Omegas)\n",
    "\n",
    "    # Define the bounds for the interpolation points\n",
    "    # bounds = [(-1e6, 1e6) for _ in range(2 * r + 1)]  # This is a loose boundary range\n",
    "    bounds = [(0, 2*np.pi) for _ in range(2 * r + 1)]\n",
    "\n",
    "    # Use differential evolution for optimization\n",
    "    result_mse = differential_evolution(mse, bounds, args=(Omegas,), strategy='best1bin', maxiter=1000)\n",
    "\n",
    "    opt_mse = result_mse.fun\n",
    "\n",
    "    # Get the optimized interpolation points\n",
    "    opt_interp_points = sorted(result_mse.x)\n",
    "\n",
    "    # Return the optimized interpolation points and the inverse of the corresponding interpolation matrix\n",
    "    return opt_mse, opt_interp_points, np.linalg.inv(interp_matrix(opt_interp_points, Omegas))\n",
    "\n",
    "def get_all_optimal_interp_points(generators_dict):\n",
    "    \"\"\"\n",
    "    Apply optimal_interp_points to each omega_set in the dictionary and add the results to the dictionary\n",
    "    :param generators_dict: Dictionary storing H_final and omega_set\n",
    "    :return: Updated dictionary containing optimization results\n",
    "    \"\"\"\n",
    "    # Traverse each item in the dictionary\n",
    "    for key, value in generators_dict.items():\n",
    "        # Get the current omega_set\n",
    "        omega_set = value[\"omega_set\"]\n",
    "        \n",
    "        # Call the optimal_interp_points function for optimization\n",
    "        opt_mse, opt_interp_points, inverse_interp_matrix = optimal_interp_points(omega_set)\n",
    "        \n",
    "        # Store the optimization results in the dictionary\n",
    "        generators_dict[key][\"opt_mse\"] = opt_mse\n",
    "        generators_dict[key][\"opt_interp_points\"] = opt_interp_points\n",
    "        generators_dict[key][\"inverse_interp_matrix\"] = inverse_interp_matrix\n",
    "    \n",
    "    return generators_dict"
   ]
  },
  {
   "cell_type": "code",
   "execution_count": 11,
   "metadata": {},
   "outputs": [
    {
     "name": "stdout",
     "output_type": "stream",
     "text": [
      "Generator_0:\n",
      "Minimal MSE value: 1.999998666667556\n",
      "Optimized interpolation points: [0.8053864936702988, 4.9941766956335005, 6.0413742457952075]\n",
      "Inverse of interpolation matrix: \n",
      "[[ 0.47140452  0.47140452  0.47140452]\n",
      " [-0.026644   -0.56356699  0.59021099]\n",
      " [ 0.66613403 -0.3561414  -0.30999263]]\n",
      "--------------------------------------------------\n"
     ]
    }
   ],
   "source": [
    "# Example: Apply the optimization function\n",
    "num_qubit = 3\n",
    "num_strings = 1\n",
    "num_generators = 1\n",
    "\n",
    "generators_dict = generate_special_Hermitian_generators(num_qubit, num_strings, num_generators)\n",
    "# generators_dict = generate_random_Hermitian_generators(num_qubit, num_generators)\n",
    "generators_dict = compute_all_omega_set(generators_dict)\n",
    "\n",
    "generators_dict = get_all_optimal_interp_points(generators_dict)\n",
    "\n",
    "# Print the results\n",
    "for key, value in generators_dict.items():\n",
    "    print(f\"{key}:\")\n",
    "    print(f\"Minimal MSE value: {value['opt_mse']}\")\n",
    "    print(f\"Optimized interpolation points: {value['opt_interp_points']}\")\n",
    "    print(f\"Inverse of interpolation matrix: \\n{value['inverse_interp_matrix']}\")\n",
    "    print(\"-\" * 50)"
   ]
  },
  {
   "cell_type": "markdown",
   "metadata": {},
   "source": [
    "## OICD Algorithm"
   ]
  },
  {
   "cell_type": "code",
   "execution_count": 12,
   "metadata": {},
   "outputs": [],
   "source": [
    "'''\n",
    "The oicd algorithm is as follows:\n",
    "'''\n",
    "\n",
    "def construct_Es_inv(s, Omegas):\n",
    "    \"\"\"\n",
    "    Construct the block diagonal matrix E_s^{-1}, where each block is B_i^T, and B_i is a rotation matrix.\n",
    "    \n",
    "    Parameters:\n",
    "    s -- Scalar, the scale of the rotation angle.\n",
    "    Omegas -- List, containing the values of Omega_i.\n",
    "    \n",
    "    Returns:\n",
    "    E_s_inv -- The constructed block diagonal matrix E_s^{-1}.\n",
    "    \"\"\"\n",
    "    # Calculate the rotation matrix B_i^T\n",
    "    num_blocks = len(Omegas) + 1  # The first block is a 1x1 matrix [1], and each subsequent block is a 2x2 matrix\n",
    "    total_size = num_blocks * 2 - 1  # Calculate the total size\n",
    "    \n",
    "    # Initialize a zero matrix of size total_size x total_size\n",
    "    E_s_inv = np.zeros((total_size, total_size))\n",
    "    \n",
    "    # Set the first 1x1 block matrix\n",
    "    E_s_inv[0, 0] = 1\n",
    "    \n",
    "    # Fill the subsequent rotation matrix blocks B_i^T\n",
    "    for i, Omega_i in enumerate(Omegas):\n",
    "        # Construct each B_i\n",
    "        B_i = np.array([[np.cos(Omega_i * s), np.sin(Omega_i * s)],\n",
    "                        [-np.sin(Omega_i * s), np.cos(Omega_i * s)]])\n",
    "        # Fill B_i^T into the matrix E_s_inv\n",
    "        E_s_inv[2*i+1:2*i+3, 2*i+1:2*i+3] = B_i.T\n",
    "    \n",
    "    return E_s_inv\n",
    "\n",
    "\n",
    "def oicd(f, generators_dict, initial_point, num_iterations, sigma,\n",
    "                             opt_goal='min', \n",
    "                             cyclic_mode=True, \n",
    "                             subproblem_iter=20,\n",
    "                             ):\n",
    "    \n",
    "    theta = initial_point\n",
    "    best_point = theta\n",
    "    best_value = f(theta)\n",
    "    function_values = [best_value]\n",
    "    hat_f_value = best_value\n",
    "    hat_function_values = [best_value]\n",
    "\n",
    "    print(\"-\"*100)\n",
    "    \n",
    "    t = trange(num_iterations, desc=\"Bar desc\", leave=True)\n",
    "    m = len(theta)\n",
    "    for i in t:\n",
    "        if cyclic_mode:\n",
    "            j = i % m\n",
    "        else:\n",
    "            j = np.random.choice(range(m))\n",
    "\n",
    "        theta_old = theta.copy()\n",
    "\n",
    "        interp_points = generators_dict[f'Generator_{j}'][\"opt_interp_points\"]\n",
    "        inv_A = generators_dict[f'Generator_{j}']['inverse_interp_matrix']\n",
    "        Omegas = generators_dict[f'Generator_{j}']['omega_set']\n",
    "\n",
    "        shift = theta[j] - interp_points[0]\n",
    "        interp_points += shift\n",
    "        E_s_inv = construct_Es_inv(shift, Omegas)\n",
    "        \n",
    "        fun_vals = [hat_f_value]\n",
    "        for point in interp_points[1:]:\n",
    "            theta_old[j] = point\n",
    "            fun_val = f(theta_old) + np.random.randn() * sigma\n",
    "            fun_vals.append(fun_val)\n",
    "        fun_vals = np.array(fun_vals)\n",
    "\n",
    "        hat_z = E_s_inv @ (inv_A @ fun_vals)\n",
    "\n",
    "        # Define the calculation of f(x), including the calculation of t(x)\n",
    "        def hat_f(x): # appr_single_var_fun\n",
    "            # Directly add 1 / np.sqrt(2) to each value when calculating t_x\n",
    "            r= len(Omegas)\n",
    "            t_x = np.array([1 / np.sqrt(2)] + [func(Omegas[k] * x).item() for k in range(r) for func in (np.cos, np.sin)])\n",
    "            return np.dot(t_x, hat_z)\n",
    "\n",
    "        # Use scipy.optimize.minimize to minimize the objective function\n",
    "        initial_guess = theta[j]  # The initial value must be the current value\n",
    "\n",
    "        # Set the maximum number of iterations\n",
    "        options = {'maxiter': subproblem_iter, 'disp': False}\n",
    "\n",
    "        if opt_goal == 'max':\n",
    "            hat_f = lambda x: -hat_f(x)\n",
    "\n",
    "        # Run the optimization algorithm to solve the subproblem\n",
    "        result = minimize(hat_f, initial_guess, options=options)\n",
    "\n",
    "        # Get the optimal solution and minimum value\n",
    "        theta_star = result.x  # Optimal solution\n",
    "        hat_f_value = result.fun  # Minimum value\n",
    "\n",
    "        # If it is a maximization problem, take the negative value\n",
    "        if opt_goal == 'max':\n",
    "            hat_f_value = -hat_f_value\n",
    "\n",
    "        theta[j] = theta_star\n",
    "        next_point = theta\n",
    "        next_value = f(next_point)\n",
    "        function_values.append(next_value)\n",
    "        hat_function_values.append(hat_f_value)\n",
    "\n",
    "        if opt_goal == 'min': \n",
    "            if next_value < best_value:\n",
    "                best_point = next_point\n",
    "                best_value = next_value\n",
    "        if opt_goal == 'max': \n",
    "            if next_value > best_value:\n",
    "                best_point = next_point\n",
    "                best_value = next_value\n",
    "\n",
    "        message = f\"Iteration: {i}, Value: {next_value}, Coord j: {j}({m})\"\n",
    "        t.set_description(f\"[OICD] Processing %s\" % message)\n",
    "        t.refresh()\n",
    "\n",
    "    print(f\"[OICD] Final value of f:\", next_value)\n",
    "\n",
    "    return best_point, function_values, hat_function_values"
   ]
  },
  {
   "cell_type": "markdown",
   "metadata": {},
   "source": [
    "## TEST"
   ]
  },
  {
   "cell_type": "code",
   "execution_count": 19,
   "metadata": {},
   "outputs": [],
   "source": [
    "# 示例：\n",
    "num_qubit = 3\n",
    "num_generators = 4\n",
    "num_strings = 4\n",
    "\n",
    "initial_state = generate_random_initial_state(num_qubit)\n",
    "observable = generate_random_observable(num_qubit)\n",
    "\n",
    "generators_dict = generate_special_Hermitian_generators(num_qubit, num_strings, num_generators)\n",
    "# generators_dict = generate_random_Hermitian_generators(num_qubit, num_generators)\n",
    "\n",
    "generators_dict = compute_all_omega_set(generators_dict)\n",
    "generators_dict = get_all_optimal_interp_points(generators_dict)\n",
    "\n",
    "f = lambda theta: expectation_value(initial_state, observable, generators_dict, theta)\n"
   ]
  },
  {
   "cell_type": "code",
   "execution_count": 20,
   "metadata": {},
   "outputs": [
    {
     "name": "stdout",
     "output_type": "stream",
     "text": [
      "----------------------------------------------------------------------------------------------------\n"
     ]
    },
    {
     "name": "stderr",
     "output_type": "stream",
     "text": [
      "[OICD] Processing Iteration: 199, Value: -1.4471715904301057, Coord j: 0(4): 100%|██████████| 200/200 [00:01<00:00, 197.64it/s]\n"
     ]
    },
    {
     "name": "stdout",
     "output_type": "stream",
     "text": [
      "[OICD] Final value of f: -1.4471715904301057\n"
     ]
    },
    {
     "data": {
      "image/png": "[encoded data removed]",
      "text/plain": [
       "<Figure size 640x480 with 1 Axes>"
      ]
     },
     "metadata": {},
     "output_type": "display_data"
    }
   ],
   "source": [
    "initial_theta  = np.random.rand(num_generators)*2*np.pi\n",
    "\n",
    "num_iterations=200\n",
    "sigma = 0.1\n",
    "\n",
    "best_point, function_values, hat_function_values = oicd(f, generators_dict, initial_theta, num_iterations, sigma,\n",
    "                             opt_goal='min', \n",
    "                             cyclic_mode=False, \n",
    "                             subproblem_iter=100,\n",
    "                             )\n",
    "\n",
    "import matplotlib.pyplot as plt\n",
    "\n",
    "# Assuming function_values and hat_function_values are lists or arrays of objective function values\n",
    "plt.plot(function_values, label='Function Values', color='b')\n",
    "# plt.plot(hat_function_values, label='Hat Function Values', color='r', linestyle='--')\n",
    "\n",
    "# Adding labels and title\n",
    "plt.xlabel('Iteration')\n",
    "plt.ylabel('Function Value')\n",
    "plt.title('Convergence of the Objective and Hat Function')\n",
    "\n",
    "# Adding a legend to differentiate the two curves\n",
    "plt.legend()\n",
    "\n",
    "# Show grid for easier visualization\n",
    "plt.grid(True)\n",
    "\n",
    "# Show the plot\n",
    "plt.show()\n"
   ]
  }
 ],
 "metadata": {
  "kernelspec": {
   "display_name": "RCD",
   "language": "python",
   "name": "python3"
  },
  "language_info": {
   "codemirror_mode": {
    "name": "ipython",
    "version": 3
   },
   "file_extension": ".py",
   "mimetype": "text/x-python",
   "name": "python",
   "nbconvert_exporter": "python",
   "pygments_lexer": "ipython3",
   "version": "3.10.14"
  }
 },
 "nbformat": 4,
 "nbformat_minor": 2
}
