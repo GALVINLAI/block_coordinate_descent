{
 "cells": [
  {
   "cell_type": "code",
   "execution_count": 36,
   "metadata": {},
   "outputs": [],
   "source": [
    "# https://pubs.acs.org/doi/10.1021/acs.jctc.2c01057\n",
    "\n",
    "import numpy as np\n",
    "import scipy.io\n",
    "import matplotlib.pyplot as plt\n",
    "from numpy import linalg as LA\n",
    "\n",
    "from qiskit import transpile\n",
    "from qiskit.circuit import ParameterVector\n",
    "from qiskit.quantum_info import SparsePauliOp\n",
    "from qiskit.quantum_info.operators import Operator\n",
    "from qiskit_aer import AerSimulator\n",
    "from qiskit.circuit import QuantumCircuit\n",
    "from IPython.display import clear_output\n",
    "from scipy.sparse.linalg import eigs\n",
    "from scipy import sparse\n",
    "import math\n",
    "import time\n",
    "from joblib import Parallel, delayed\n",
    "import multiprocessing as multip\n",
    "from qiskit.quantum_info import Statevector"
   ]
  },
  {
   "cell_type": "markdown",
   "metadata": {},
   "source": [
    "# Measure qubits\n",
    "\n",
    "https://docs.quantum.ibm.com/guides/measure-qubits"
   ]
  },
  {
   "cell_type": "code",
   "execution_count": null,
   "metadata": {},
   "outputs": [],
   "source": [
    "circuit = QuantumCircuit(1, 1)\n",
    "circuit.h(0)\n",
    "circuit.measure(0, 0)\n",
    "circuit.draw()"
   ]
  },
  {
   "cell_type": "code",
   "execution_count": null,
   "metadata": {},
   "outputs": [],
   "source": [
    "from qiskit import QuantumCircuit\n",
    " \n",
    "qc = QuantumCircuit(5, 5)\n",
    "qc.x(0)\n",
    "qc.x(1)\n",
    "qc.x(4)\n"
   ]
  },
  {
   "cell_type": "code",
   "execution_count": null,
   "metadata": {},
   "outputs": [],
   "source": [
    "qc.measure(range(5), range(5)) #  Measures all qubits into the corresponding clbit.\n",
    "qc.draw(\"mpl\")"
   ]
  },
  {
   "cell_type": "code",
   "execution_count": null,
   "metadata": {},
   "outputs": [],
   "source": [
    "ind = list(range(5))  # 所有量子比特的索引\n",
    "rind = ind  # 反转后的经典比特索引列表\n",
    "rind.reverse()  # 反转经典比特索引\n",
    "qc.measure(ind, rind)  # 测量量子比特到经典比特\n",
    "\n",
    "\n",
    "qc.draw(\"mpl\")"
   ]
  },
  {
   "cell_type": "code",
   "execution_count": null,
   "metadata": {},
   "outputs": [],
   "source": [
    "from qiskit import QuantumCircuit\n",
    " \n",
    "qc = QuantumCircuit(3, 1)\n",
    "qc.x([0, 2])\n",
    "qc.measure(0, 0)    # Measure qubit 1 into the classical bit 0.\n",
    "print(qc)"
   ]
  },
  {
   "cell_type": "code",
   "execution_count": null,
   "metadata": {},
   "outputs": [],
   "source": [
    "from qiskit import QuantumCircuit\n",
    " \n",
    "qc = QuantumCircuit(5, 5)\n",
    "qc.x(0)\n",
    "qc.x(1)\n",
    "qc.x(4)\n",
    "qc.measure(range(5), range(5)) #  Measures all qubits into the corresponding clbit."
   ]
  },
  {
   "cell_type": "code",
   "execution_count": null,
   "metadata": {},
   "outputs": [],
   "source": [
    "from qiskit import QuantumCircuit\n",
    " \n",
    "qc = QuantumCircuit(3, 1)\n",
    "qc.x([0, 2])\n",
    "print(qc.draw())\n",
    "qc.measure(1, 0)    # Measure qubit 1 into the classical bit 0."
   ]
  },
  {
   "cell_type": "code",
   "execution_count": null,
   "metadata": {},
   "outputs": [],
   "source": [
    "# https://pubs.acs.org/doi/10.1021/acs.jctc.2c01057\n",
    "\n",
    "import numpy as np\n",
    "import scipy.io\n",
    "import matplotlib.pyplot as plt\n",
    "from numpy import linalg as LA\n",
    "\n",
    "from qiskit import transpile\n",
    "from qiskit.circuit import ParameterVector\n",
    "from qiskit.quantum_info import SparsePauliOp\n",
    "from qiskit.quantum_info.operators import Operator\n",
    "from qiskit_aer import AerSimulator\n",
    "from qiskit.circuit import QuantumCircuit\n",
    "from IPython.display import clear_output\n",
    "from scipy.sparse.linalg import eigs\n",
    "from scipy import sparse\n",
    "import math\n",
    "import time\n",
    "from joblib import Parallel, delayed\n",
    "import multiprocessing as multip\n",
    "from qiskit.quantum_info import Statevector\n",
    "\n",
    "\n",
    "# Create a quantum circuit with 1 qubit and 1 classical bit\n",
    "qc = QuantumCircuit(1, 1)\n",
    "weights = np.random.uniform(0, 2 * np.pi, 3)\n",
    "# qc.h(0)\n",
    "qc.rx(weights[0],0)  # Apply Rx gate\n",
    "qc.ry(weights[1],0)  # Apply Rx gate\n",
    "qc.rx(weights[2],0)  # Apply Rx gate\n",
    "qc.sdg(0)  # Apply S† gate\n",
    "qc.h(0)    # Apply Hadamard gate\n",
    "qc.measure(0, 0)  # Measure the qubit\n",
    "\n",
    "print(qc)\n",
    "\n",
    "simulator = AerSimulator()  # 创建量子模拟器\n",
    "qc = transpile(qc, simulator)"
   ]
  },
  {
   "cell_type": "code",
   "execution_count": null,
   "metadata": {},
   "outputs": [],
   "source": [
    "SHOTS=10000\n",
    "result = simulator.run(qc, shots=SHOTS, memory=True).result()\n",
    "c = result.get_memory(qc)\n",
    "print(c)\n",
    "\n",
    "counts = result.get_counts(qc)\n",
    "from qiskit.visualization import plot_histogram, plot_state_city\n",
    "plot_histogram(counts)"
   ]
  },
  {
   "cell_type": "markdown",
   "metadata": {},
   "source": [
    "To verify that the average value of the observable $X_1 Z_2$ for a two-qubit system measured in the state $\\frac{|00\\rangle+|11\\rangle}{\\sqrt{2}}$ is zero using the Qiskit simulator, we can follow these steps:"
   ]
  },
  {
   "cell_type": "code",
   "execution_count": null,
   "metadata": {},
   "outputs": [],
   "source": [
    "\n",
    "from qiskit.quantum_info import Statevector, Operator\n",
    "import numpy as np\n",
    "\n",
    "# Create a quantum circuit with 2 qubits\n",
    "qc = QuantumCircuit(2)\n",
    "\n",
    "# Prepare the Bell state |00> + |11> / sqrt(2)\n",
    "qc.h(0)  # Apply Hadamard to qubit 0\n",
    "qc.cx(0, 1)  # Apply CNOT with control qubit 0 and target qubit 1\n",
    "\n",
    "# Define the observable X1 Z2\n",
    "X1 = Operator.from_label('X')  # Pauli-X on qubit 1\n",
    "Z2 = Operator.from_label('Z')  # Pauli-Z on qubit 2\n",
    "observable = X1.tensor(Z2)  # Combined operator X1 Z2\n",
    "\n",
    "# Create the simulator\n",
    "simulator = AerSimulator()\n",
    "\n",
    "# Get the statevector for the Bell state\n",
    "state = Statevector.from_instruction(qc)\n",
    "\n",
    "# Calculate the expectation value of the observable\n",
    "expectation_value = state.expectation_value(observable)\n",
    "\n",
    "# Print the result\n",
    "print(f\"Expectation value of X1 Z2: {expectation_value}\")\n"
   ]
  },
  {
   "cell_type": "code",
   "execution_count": null,
   "metadata": {},
   "outputs": [],
   "source": [
    "from qiskit import QuantumCircuit\n",
    "# from qiskit.providers.aer import AerSimulator\n",
    "# from qiskit.visualization import plot_histogram\n",
    "\n",
    "# 创建量子电路，使用 3 个量子比特\n",
    "qc = QuantumCircuit(3, 3)\n",
    "\n",
    "# 准备量子态 (|000⟩ + |111⟩)/√2\n",
    "qc.h(0)  # 将第一个量子比特置于叠加态\n",
    "qc.cx(0, 1)  # 使用 CNOT 门纠缠第一个和第二个量子比特\n",
    "qc.cx(0, 2)  # 使用 CNOT 门纠缠第一个和第三个量子比特\n",
    "\n",
    "# 定义可观测量 ZZZ\n",
    "# 我们将 Z 操作应用于每个量子比特，且不做测量，只计算期望值\n",
    "qc.measure([0, 1, 2], [0, 1, 2])\n",
    "\n",
    "# 选择模拟器后端\n",
    "simulator = AerSimulator()\n",
    "\n",
    "# 执行模拟\n",
    "result = simulator.run(qc, shots=1024).result()\n",
    "\n",
    "# 获取测量结果\n",
    "counts = result.get_counts(qc)\n",
    "\n",
    "# 打印测量结果\n",
    "print(counts)\n",
    "\n",
    "# 计算期望值\n",
    "# 期望值 = P(000) - P(111) \n",
    "P_000 = counts.get('000', 0) / 1024\n",
    "P_111 = counts.get('111', 0) / 1024\n",
    "expectation_value = P_000 - P_111\n",
    "\n",
    "print(f\"Expectation value of ZZZ: {expectation_value}\")\n"
   ]
  },
  {
   "cell_type": "code",
   "execution_count": null,
   "metadata": {},
   "outputs": [],
   "source": [
    "import numpy as np\n",
    "from qiskit.quantum_info import SparsePauliOp\n",
    "\n",
    "n=3\n",
    "matrix = np.random.rand(2**n, 2**n) + 1j * np.random.rand(2**n, 2**n)\n",
    "matrix = (matrix + matrix.conj().T) / 2\n",
    "\n",
    "observable = SparsePauliOp.from_operator(matrix)\n",
    "print(observable)\n",
    "print(observable.size)\n",
    "\n",
    "Hmat = Operator(observable)\n",
    "print(np.linalg.norm(Hmat-matrix))"
   ]
  }
 ],
 "metadata": {
  "kernelspec": {
   "display_name": "RCD",
   "language": "python",
   "name": "python3"
  },
  "language_info": {
   "codemirror_mode": {
    "name": "ipython",
    "version": 3
   },
   "file_extension": ".py",
   "mimetype": "text/x-python",
   "name": "python",
   "nbconvert_exporter": "python",
   "pygments_lexer": "ipython3",
   "version": "3.10.14"
  }
 },
 "nbformat": 4,
 "nbformat_minor": 2
}
